{
 "cells": [
  {
   "cell_type": "code",
   "execution_count": 1,
   "id": "41f9cc6a",
   "metadata": {
    "_cell_guid": "b1076dfc-b9ad-4769-8c92-a6c4dae69d19",
    "_uuid": "8f2839f25d086af736a60e9eeb907d3b93b6e0e5",
    "execution": {
     "iopub.execute_input": "2022-01-15T17:08:00.366429Z",
     "iopub.status.busy": "2022-01-15T17:08:00.365225Z",
     "iopub.status.idle": "2022-01-15T17:08:00.376460Z",
     "shell.execute_reply": "2022-01-15T17:08:00.377049Z",
     "shell.execute_reply.started": "2022-01-15T15:14:28.464904Z"
    },
    "papermill": {
     "duration": 0.046216,
     "end_time": "2022-01-15T17:08:00.377368",
     "exception": false,
     "start_time": "2022-01-15T17:08:00.331152",
     "status": "completed"
    },
    "tags": []
   },
   "outputs": [],
   "source": [
    "import pandas as pd\n",
    "import numpy as np"
   ]
  },
  {
   "cell_type": "code",
   "execution_count": 2,
   "id": "51a7547c",
   "metadata": {
    "execution": {
     "iopub.execute_input": "2022-01-15T17:08:00.437000Z",
     "iopub.status.busy": "2022-01-15T17:08:00.436273Z",
     "iopub.status.idle": "2022-01-15T17:08:02.877842Z",
     "shell.execute_reply": "2022-01-15T17:08:02.878370Z",
     "shell.execute_reply.started": "2022-01-15T17:06:29.440913Z"
    },
    "papermill": {
     "duration": 2.473825,
     "end_time": "2022-01-15T17:08:02.878538",
     "exception": false,
     "start_time": "2022-01-15T17:08:00.404713",
     "status": "completed"
    },
    "tags": []
   },
   "outputs": [
    {
     "name": "stdout",
     "output_type": "stream",
     "text": [
      "(159571, 8)\n"
     ]
    },
    {
     "data": {
      "text/html": [
       "<div>\n",
       "<style scoped>\n",
       "    .dataframe tbody tr th:only-of-type {\n",
       "        vertical-align: middle;\n",
       "    }\n",
       "\n",
       "    .dataframe tbody tr th {\n",
       "        vertical-align: top;\n",
       "    }\n",
       "\n",
       "    .dataframe thead th {\n",
       "        text-align: right;\n",
       "    }\n",
       "</style>\n",
       "<table border=\"1\" class=\"dataframe\">\n",
       "  <thead>\n",
       "    <tr style=\"text-align: right;\">\n",
       "      <th></th>\n",
       "      <th>text</th>\n",
       "      <th>y</th>\n",
       "    </tr>\n",
       "  </thead>\n",
       "  <tbody>\n",
       "    <tr>\n",
       "      <th>2801</th>\n",
       "      <td>Lots of places have different dates. Perhaps H...</td>\n",
       "      <td>0</td>\n",
       "    </tr>\n",
       "    <tr>\n",
       "      <th>5965</th>\n",
       "      <td>\"\\n\\n basic income dispute resolution \\n\\nI do...</td>\n",
       "      <td>0</td>\n",
       "    </tr>\n",
       "    <tr>\n",
       "      <th>5918</th>\n",
       "      <td>Nu Metal \\n\\nWhat i reverted was an unexplaine...</td>\n",
       "      <td>0</td>\n",
       "    </tr>\n",
       "    <tr>\n",
       "      <th>31632</th>\n",
       "      <td>Fuck You\\nAll I Did Was Put Stuff On My user P...</td>\n",
       "      <td>3</td>\n",
       "    </tr>\n",
       "    <tr>\n",
       "      <th>47330</th>\n",
       "      <td>(Sorry for any Inconvenience).User:Harry Weasl...</td>\n",
       "      <td>0</td>\n",
       "    </tr>\n",
       "  </tbody>\n",
       "</table>\n",
       "</div>"
      ],
      "text/plain": [
       "                                                    text  y\n",
       "2801   Lots of places have different dates. Perhaps H...  0\n",
       "5965   \"\\n\\n basic income dispute resolution \\n\\nI do...  0\n",
       "5918   Nu Metal \\n\\nWhat i reverted was an unexplaine...  0\n",
       "31632  Fuck You\\nAll I Did Was Put Stuff On My user P...  3\n",
       "47330  (Sorry for any Inconvenience).User:Harry Weasl...  0"
      ]
     },
     "execution_count": 2,
     "metadata": {},
     "output_type": "execute_result"
    }
   ],
   "source": [
    "df = pd.read_csv('../input/classification-data/train.csv')\n",
    "print(df.shape)\n",
    "\n",
    "#sum toxicity\n",
    "df['y'] = (df[['toxic', 'severe_toxic', 'obscene', 'threat', 'insult', 'identity_hate']].sum(axis=1) ).astype(int)\n",
    "df = df[['comment_text', 'y']].rename(columns={'comment_text': 'text'})\n",
    "df.sample(5)"
   ]
  },
  {
   "cell_type": "code",
   "execution_count": 3,
   "id": "804fc656",
   "metadata": {
    "execution": {
     "iopub.execute_input": "2022-01-15T17:08:02.939026Z",
     "iopub.status.busy": "2022-01-15T17:08:02.938301Z",
     "iopub.status.idle": "2022-01-15T17:08:03.071129Z",
     "shell.execute_reply": "2022-01-15T17:08:03.071664Z",
     "shell.execute_reply.started": "2022-01-15T15:14:31.023802Z"
    },
    "papermill": {
     "duration": 0.164835,
     "end_time": "2022-01-15T17:08:03.071838",
     "exception": false,
     "start_time": "2022-01-15T17:08:02.907003",
     "status": "completed"
    },
    "tags": []
   },
   "outputs": [
    {
     "name": "stdout",
     "output_type": "stream",
     "text": [
      "159571\n"
     ]
    }
   ],
   "source": [
    "toxic = []\n",
    "for l in df.y:\n",
    "    if l == 0:\n",
    "        toxic.append(0)\n",
    "    else:\n",
    "        toxic.append(1)\n",
    "\n",
    "print(len(df))\n",
    "df['toxic']= toxic"
   ]
  },
  {
   "cell_type": "code",
   "execution_count": 4,
   "id": "dd31c14d",
   "metadata": {
    "execution": {
     "iopub.execute_input": "2022-01-15T17:08:03.131802Z",
     "iopub.status.busy": "2022-01-15T17:08:03.131098Z",
     "iopub.status.idle": "2022-01-15T17:08:03.142047Z",
     "shell.execute_reply": "2022-01-15T17:08:03.142512Z",
     "shell.execute_reply.started": "2022-01-15T15:14:31.185204Z"
    },
    "papermill": {
     "duration": 0.042945,
     "end_time": "2022-01-15T17:08:03.142706",
     "exception": false,
     "start_time": "2022-01-15T17:08:03.099761",
     "status": "completed"
    },
    "tags": []
   },
   "outputs": [
    {
     "data": {
      "text/plain": [
       "0    143346\n",
       "1      6360\n",
       "3      4209\n",
       "2      3480\n",
       "4      1760\n",
       "5       385\n",
       "6        31\n",
       "Name: y, dtype: int64"
      ]
     },
     "execution_count": 4,
     "metadata": {},
     "output_type": "execute_result"
    }
   ],
   "source": [
    "df['y'].value_counts()"
   ]
  },
  {
   "cell_type": "code",
   "execution_count": 5,
   "id": "38b22864",
   "metadata": {
    "execution": {
     "iopub.execute_input": "2022-01-15T17:08:03.238953Z",
     "iopub.status.busy": "2022-01-15T17:08:03.203319Z",
     "iopub.status.idle": "2022-01-15T17:08:10.417750Z",
     "shell.execute_reply": "2022-01-15T17:08:10.418251Z",
     "shell.execute_reply.started": "2022-01-15T15:14:31.201564Z"
    },
    "papermill": {
     "duration": 7.247287,
     "end_time": "2022-01-15T17:08:10.418445",
     "exception": false,
     "start_time": "2022-01-15T17:08:03.171158",
     "status": "completed"
    },
    "tags": []
   },
   "outputs": [
    {
     "data": {
      "text/html": [
       "<div>\n",
       "<style scoped>\n",
       "    .dataframe tbody tr th:only-of-type {\n",
       "        vertical-align: middle;\n",
       "    }\n",
       "\n",
       "    .dataframe tbody tr th {\n",
       "        vertical-align: top;\n",
       "    }\n",
       "\n",
       "    .dataframe thead th {\n",
       "        text-align: right;\n",
       "    }\n",
       "</style>\n",
       "<table border=\"1\" class=\"dataframe\">\n",
       "  <thead>\n",
       "    <tr style=\"text-align: right;\">\n",
       "      <th></th>\n",
       "      <th>text</th>\n",
       "      <th>y</th>\n",
       "      <th>toxic</th>\n",
       "    </tr>\n",
       "  </thead>\n",
       "  <tbody>\n",
       "    <tr>\n",
       "      <th>0</th>\n",
       "      <td>explanation why the edits made under my userna...</td>\n",
       "      <td>0</td>\n",
       "      <td>0</td>\n",
       "    </tr>\n",
       "    <tr>\n",
       "      <th>1</th>\n",
       "      <td>d aww  he matches this background colour i m s...</td>\n",
       "      <td>0</td>\n",
       "      <td>0</td>\n",
       "    </tr>\n",
       "    <tr>\n",
       "      <th>2</th>\n",
       "      <td>hey man  i m really not trying to edit war  it...</td>\n",
       "      <td>0</td>\n",
       "      <td>0</td>\n",
       "    </tr>\n",
       "    <tr>\n",
       "      <th>3</th>\n",
       "      <td>more i can t make any real suggestions on im...</td>\n",
       "      <td>0</td>\n",
       "      <td>0</td>\n",
       "    </tr>\n",
       "    <tr>\n",
       "      <th>4</th>\n",
       "      <td>you  sir  are my hero  any chance you remember...</td>\n",
       "      <td>0</td>\n",
       "      <td>0</td>\n",
       "    </tr>\n",
       "    <tr>\n",
       "      <th>...</th>\n",
       "      <td>...</td>\n",
       "      <td>...</td>\n",
       "      <td>...</td>\n",
       "    </tr>\n",
       "    <tr>\n",
       "      <th>159566</th>\n",
       "      <td>and for the second time of asking  when ...</td>\n",
       "      <td>0</td>\n",
       "      <td>0</td>\n",
       "    </tr>\n",
       "    <tr>\n",
       "      <th>159567</th>\n",
       "      <td>you should be ashamed of yourself   that is a ...</td>\n",
       "      <td>0</td>\n",
       "      <td>0</td>\n",
       "    </tr>\n",
       "    <tr>\n",
       "      <th>159568</th>\n",
       "      <td>spitzer   umm  theres no actual article for pr...</td>\n",
       "      <td>0</td>\n",
       "      <td>0</td>\n",
       "    </tr>\n",
       "    <tr>\n",
       "      <th>159569</th>\n",
       "      <td>and it looks like it was actually you who put ...</td>\n",
       "      <td>0</td>\n",
       "      <td>0</td>\n",
       "    </tr>\n",
       "    <tr>\n",
       "      <th>159570</th>\n",
       "      <td>and     i really don t think you understand ...</td>\n",
       "      <td>0</td>\n",
       "      <td>0</td>\n",
       "    </tr>\n",
       "  </tbody>\n",
       "</table>\n",
       "<p>159571 rows × 3 columns</p>\n",
       "</div>"
      ],
      "text/plain": [
       "                                                     text  y  toxic\n",
       "0       explanation why the edits made under my userna...  0      0\n",
       "1       d aww  he matches this background colour i m s...  0      0\n",
       "2       hey man  i m really not trying to edit war  it...  0      0\n",
       "3         more i can t make any real suggestions on im...  0      0\n",
       "4       you  sir  are my hero  any chance you remember...  0      0\n",
       "...                                                   ... ..    ...\n",
       "159566        and for the second time of asking  when ...  0      0\n",
       "159567  you should be ashamed of yourself   that is a ...  0      0\n",
       "159568  spitzer   umm  theres no actual article for pr...  0      0\n",
       "159569  and it looks like it was actually you who put ...  0      0\n",
       "159570    and     i really don t think you understand ...  0      0\n",
       "\n",
       "[159571 rows x 3 columns]"
      ]
     },
     "execution_count": 5,
     "metadata": {},
     "output_type": "execute_result"
    }
   ],
   "source": [
    "#get rid of punctuation\n",
    "import re\n",
    "df['text'] = df['text'].str.lower()\n",
    "df['text']  = df['text'].astype(str)\n",
    "df['text'] = df['text'].apply(lambda x: re.sub(\"[^a-zA-Z]\", \" \", x))\n",
    "df['text'] = df['text'].str.replace('nan','')\n",
    "df"
   ]
  },
  {
   "cell_type": "code",
   "execution_count": 6,
   "id": "c674948b",
   "metadata": {
    "execution": {
     "iopub.execute_input": "2022-01-15T17:08:10.486600Z",
     "iopub.status.busy": "2022-01-15T17:08:10.485781Z",
     "iopub.status.idle": "2022-01-15T17:10:01.436901Z",
     "shell.execute_reply": "2022-01-15T17:10:01.436266Z",
     "shell.execute_reply.started": "2022-01-15T15:14:38.534355Z"
    },
    "papermill": {
     "duration": 110.989027,
     "end_time": "2022-01-15T17:10:01.437092",
     "exception": false,
     "start_time": "2022-01-15T17:08:10.448065",
     "status": "completed"
    },
    "tags": []
   },
   "outputs": [],
   "source": [
    "from nltk import word_tokenize\n",
    "#tokenize\n",
    "tokens = [word_tokenize(sentence) for sentence in df.text]\n",
    "df['tokens'] = tokens "
   ]
  },
  {
   "cell_type": "code",
   "execution_count": 7,
   "id": "338f0126",
   "metadata": {
    "execution": {
     "iopub.execute_input": "2022-01-15T17:10:01.499722Z",
     "iopub.status.busy": "2022-01-15T17:10:01.499027Z",
     "iopub.status.idle": "2022-01-15T17:11:18.653878Z",
     "shell.execute_reply": "2022-01-15T17:11:18.654598Z",
     "shell.execute_reply.started": "2022-01-15T15:16:33.825261Z"
    },
    "papermill": {
     "duration": 77.188712,
     "end_time": "2022-01-15T17:11:18.654864",
     "exception": false,
     "start_time": "2022-01-15T17:10:01.466152",
     "status": "completed"
    },
    "tags": []
   },
   "outputs": [
    {
     "name": "stderr",
     "output_type": "stream",
     "text": [
      "/opt/conda/lib/python3.7/site-packages/ipykernel_launcher.py:7: DeprecationWarning: Call to deprecated `init_sims` (Gensim 4.0.0 implemented internal optimizations that make calls to init_sims() unnecessary. init_sims() is now obsoleted and will be completely removed in future versions. See https://github.com/RaRe-Technologies/gensim/wiki/Migrating-from-Gensim-3.x-to-4).\n",
      "  import sys\n"
     ]
    }
   ],
   "source": [
    "import gensim\n",
    "from gensim.models import KeyedVectors\n",
    "from gensim.models import Word2Vec\n",
    "#train a word2vec model on all of the data\n",
    "def word2vec(sentences):\n",
    "    model = Word2Vec(sentences=sentences,  window=5, min_count=1)\n",
    "    model.init_sims(replace=True)\n",
    "    return(model)\n",
    "model = word2vec(df['tokens'])"
   ]
  },
  {
   "cell_type": "code",
   "execution_count": 8,
   "id": "4e5302e1",
   "metadata": {
    "execution": {
     "iopub.execute_input": "2022-01-15T17:11:18.720628Z",
     "iopub.status.busy": "2022-01-15T17:11:18.719344Z",
     "iopub.status.idle": "2022-01-15T17:11:18.738763Z",
     "shell.execute_reply": "2022-01-15T17:11:18.739696Z",
     "shell.execute_reply.started": "2022-01-15T15:17:44.831507Z"
    },
    "papermill": {
     "duration": 0.0551,
     "end_time": "2022-01-15T17:11:18.740021",
     "exception": false,
     "start_time": "2022-01-15T17:11:18.684921",
     "status": "completed"
    },
    "tags": []
   },
   "outputs": [
    {
     "data": {
      "text/plain": [
       "[('cunt', 0.6814664006233215),\n",
       " ('fucking', 0.6405975222587585),\n",
       " ('hell', 0.6323719620704651),\n",
       " ('damn', 0.628625750541687),\n",
       " ('bitch', 0.618755578994751),\n",
       " ('ass', 0.6148983240127563),\n",
       " ('fuckin', 0.5878194570541382),\n",
       " ('comptuer', 0.5793758034706116),\n",
       " ('sarcasticidealist', 0.5783644318580627),\n",
       " ('suck', 0.5717217326164246)]"
      ]
     },
     "execution_count": 8,
     "metadata": {},
     "output_type": "execute_result"
    }
   ],
   "source": [
    "#similarity?\n",
    "model.wv.most_similar(positive=[\"fuck\"])"
   ]
  },
  {
   "cell_type": "code",
   "execution_count": 9,
   "id": "d0b4410e",
   "metadata": {
    "execution": {
     "iopub.execute_input": "2022-01-15T17:11:18.854829Z",
     "iopub.status.busy": "2022-01-15T17:11:18.853680Z",
     "iopub.status.idle": "2022-01-15T17:11:18.874158Z",
     "shell.execute_reply": "2022-01-15T17:11:18.875530Z",
     "shell.execute_reply.started": "2022-01-15T15:17:44.858722Z"
    },
    "papermill": {
     "duration": 0.079022,
     "end_time": "2022-01-15T17:11:18.875880",
     "exception": false,
     "start_time": "2022-01-15T17:11:18.796858",
     "status": "completed"
    },
    "tags": []
   },
   "outputs": [
    {
     "data": {
      "text/plain": [
       "[('communist', 0.8454351425170898),\n",
       " ('fascist', 0.8294506072998047),\n",
       " ('neo', 0.7927463054656982),\n",
       " ('nationalist', 0.7609747648239136),\n",
       " ('zionist', 0.7376621961593628),\n",
       " ('nazis', 0.727400541305542),\n",
       " ('liberal', 0.712074339389801),\n",
       " ('racist', 0.7036260366439819),\n",
       " ('socialist', 0.7035673260688782),\n",
       " ('serb', 0.6795352697372437)]"
      ]
     },
     "execution_count": 9,
     "metadata": {},
     "output_type": "execute_result"
    }
   ],
   "source": [
    "model.wv.most_similar(positive=[\"nazi\"])"
   ]
  },
  {
   "cell_type": "code",
   "execution_count": 10,
   "id": "bd9d4f63",
   "metadata": {
    "execution": {
     "iopub.execute_input": "2022-01-15T17:11:18.995145Z",
     "iopub.status.busy": "2022-01-15T17:11:18.994090Z",
     "iopub.status.idle": "2022-01-15T17:11:19.001802Z",
     "shell.execute_reply": "2022-01-15T17:11:19.002841Z",
     "shell.execute_reply.started": "2022-01-15T15:17:44.891133Z"
    },
    "papermill": {
     "duration": 0.070452,
     "end_time": "2022-01-15T17:11:19.003161",
     "exception": false,
     "start_time": "2022-01-15T17:11:18.932709",
     "status": "completed"
    },
    "tags": []
   },
   "outputs": [
    {
     "data": {
      "text/plain": [
       "[('comments', 0.7662959098815918),\n",
       " ('remark', 0.7388458847999573),\n",
       " ('reply', 0.6995962858200073),\n",
       " ('suggestion', 0.6949908137321472),\n",
       " ('response', 0.6914228200912476),\n",
       " ('message', 0.6874347925186157),\n",
       " ('statement', 0.6586191654205322),\n",
       " ('post', 0.6476645469665527),\n",
       " ('complaint', 0.6327527761459351),\n",
       " ('mistake', 0.608933687210083)]"
      ]
     },
     "execution_count": 10,
     "metadata": {},
     "output_type": "execute_result"
    }
   ],
   "source": [
    "model.wv.most_similar(positive=[\"comment\"])"
   ]
  },
  {
   "cell_type": "code",
   "execution_count": 11,
   "id": "d9b9fd3e",
   "metadata": {
    "execution": {
     "iopub.execute_input": "2022-01-15T17:11:19.124233Z",
     "iopub.status.busy": "2022-01-15T17:11:19.122665Z",
     "iopub.status.idle": "2022-01-15T17:11:19.157090Z",
     "shell.execute_reply": "2022-01-15T17:11:19.157772Z",
     "shell.execute_reply.started": "2022-01-15T15:17:44.915263Z"
    },
    "papermill": {
     "duration": 0.097258,
     "end_time": "2022-01-15T17:11:19.157973",
     "exception": false,
     "start_time": "2022-01-15T17:11:19.060715",
     "status": "completed"
    },
    "tags": []
   },
   "outputs": [
    {
     "data": {
      "text/plain": [
       "16225"
      ]
     },
     "execution_count": 11,
     "metadata": {},
     "output_type": "execute_result"
    }
   ],
   "source": [
    "len(df[df['y'] != 0])"
   ]
  },
  {
   "cell_type": "code",
   "execution_count": 12,
   "id": "60dc59f1",
   "metadata": {
    "execution": {
     "iopub.execute_input": "2022-01-15T17:11:19.222800Z",
     "iopub.status.busy": "2022-01-15T17:11:19.222114Z",
     "iopub.status.idle": "2022-01-15T17:11:19.244736Z",
     "shell.execute_reply": "2022-01-15T17:11:19.245273Z",
     "shell.execute_reply.started": "2022-01-15T15:17:44.968429Z"
    },
    "papermill": {
     "duration": 0.057052,
     "end_time": "2022-01-15T17:11:19.245455",
     "exception": false,
     "start_time": "2022-01-15T17:11:19.188403",
     "status": "completed"
    },
    "tags": []
   },
   "outputs": [
    {
     "data": {
      "text/plain": [
       "143346"
      ]
     },
     "execution_count": 12,
     "metadata": {},
     "output_type": "execute_result"
    }
   ],
   "source": [
    "len(df[df['y'] == 0])"
   ]
  },
  {
   "cell_type": "code",
   "execution_count": 13,
   "id": "d4249758",
   "metadata": {
    "execution": {
     "iopub.execute_input": "2022-01-15T17:11:19.310783Z",
     "iopub.status.busy": "2022-01-15T17:11:19.310095Z",
     "iopub.status.idle": "2022-01-15T17:11:19.346997Z",
     "shell.execute_reply": "2022-01-15T17:11:19.346424Z",
     "shell.execute_reply.started": "2022-01-15T15:17:45.017595Z"
    },
    "papermill": {
     "duration": 0.070689,
     "end_time": "2022-01-15T17:11:19.347138",
     "exception": false,
     "start_time": "2022-01-15T17:11:19.276449",
     "status": "completed"
    },
    "tags": []
   },
   "outputs": [],
   "source": [
    "df_zero = df[df['y'] == 0].sample(16000)\n",
    "df = df[df['y']!=0].reset_index()"
   ]
  },
  {
   "cell_type": "code",
   "execution_count": 14,
   "id": "244697f3",
   "metadata": {
    "execution": {
     "iopub.execute_input": "2022-01-15T17:11:19.426733Z",
     "iopub.status.busy": "2022-01-15T17:11:19.426010Z",
     "iopub.status.idle": "2022-01-15T17:11:19.442890Z",
     "shell.execute_reply": "2022-01-15T17:11:19.442312Z",
     "shell.execute_reply.started": "2022-01-15T15:17:45.05791Z"
    },
    "papermill": {
     "duration": 0.064307,
     "end_time": "2022-01-15T17:11:19.443035",
     "exception": false,
     "start_time": "2022-01-15T17:11:19.378728",
     "status": "completed"
    },
    "tags": []
   },
   "outputs": [
    {
     "data": {
      "text/plain": [
       "0    16000\n",
       "1     6360\n",
       "3     4209\n",
       "2     3480\n",
       "4     1760\n",
       "5      385\n",
       "6       31\n",
       "Name: y, dtype: int64"
      ]
     },
     "execution_count": 14,
     "metadata": {},
     "output_type": "execute_result"
    }
   ],
   "source": [
    "df = pd.concat([df,df_zero])\n",
    "df['y'].value_counts()"
   ]
  },
  {
   "cell_type": "code",
   "execution_count": 15,
   "id": "161aedc4",
   "metadata": {
    "execution": {
     "iopub.execute_input": "2022-01-15T17:11:19.512765Z",
     "iopub.status.busy": "2022-01-15T17:11:19.512057Z",
     "iopub.status.idle": "2022-01-15T17:11:19.544464Z",
     "shell.execute_reply": "2022-01-15T17:11:19.543912Z",
     "shell.execute_reply.started": "2022-01-15T15:17:45.077227Z"
    },
    "papermill": {
     "duration": 0.070068,
     "end_time": "2022-01-15T17:11:19.544618",
     "exception": false,
     "start_time": "2022-01-15T17:11:19.474550",
     "status": "completed"
    },
    "tags": []
   },
   "outputs": [
    {
     "data": {
      "text/html": [
       "<div>\n",
       "<style scoped>\n",
       "    .dataframe tbody tr th:only-of-type {\n",
       "        vertical-align: middle;\n",
       "    }\n",
       "\n",
       "    .dataframe tbody tr th {\n",
       "        vertical-align: top;\n",
       "    }\n",
       "\n",
       "    .dataframe thead th {\n",
       "        text-align: right;\n",
       "    }\n",
       "</style>\n",
       "<table border=\"1\" class=\"dataframe\">\n",
       "  <thead>\n",
       "    <tr style=\"text-align: right;\">\n",
       "      <th></th>\n",
       "      <th>level_0</th>\n",
       "      <th>index</th>\n",
       "      <th>text</th>\n",
       "      <th>y</th>\n",
       "      <th>toxic</th>\n",
       "      <th>tokens</th>\n",
       "    </tr>\n",
       "  </thead>\n",
       "  <tbody>\n",
       "    <tr>\n",
       "      <th>0</th>\n",
       "      <td>24793</td>\n",
       "      <td>NaN</td>\n",
       "      <td>a message from                 it isn t vandal...</td>\n",
       "      <td>0</td>\n",
       "      <td>0</td>\n",
       "      <td>[a, message, from, it, isn, t, vandalism, it, ...</td>\n",
       "    </tr>\n",
       "    <tr>\n",
       "      <th>1</th>\n",
       "      <td>14933</td>\n",
       "      <td>147109.0</td>\n",
       "      <td>fuck yourself you self important web nazi  del...</td>\n",
       "      <td>4</td>\n",
       "      <td>1</td>\n",
       "      <td>[fuck, yourself, you, self, important, web, na...</td>\n",
       "    </tr>\n",
       "    <tr>\n",
       "      <th>2</th>\n",
       "      <td>1700</td>\n",
       "      <td>NaN</td>\n",
       "      <td>thankyou  gareth  that s very kind  is that mo...</td>\n",
       "      <td>0</td>\n",
       "      <td>0</td>\n",
       "      <td>[thankyou, gareth, that, s, very, kind, is, th...</td>\n",
       "    </tr>\n",
       "    <tr>\n",
       "      <th>3</th>\n",
       "      <td>124791</td>\n",
       "      <td>NaN</td>\n",
       "      <td>kentucky hoax      there has been a recent mov...</td>\n",
       "      <td>0</td>\n",
       "      <td>0</td>\n",
       "      <td>[kentucky, hoax, there, has, been, a, recent, ...</td>\n",
       "    </tr>\n",
       "    <tr>\n",
       "      <th>4</th>\n",
       "      <td>52666</td>\n",
       "      <td>NaN</td>\n",
       "      <td>july       utc  once again  leave me alon...</td>\n",
       "      <td>0</td>\n",
       "      <td>0</td>\n",
       "      <td>[july, utc, once, again, leave, me, alone, you...</td>\n",
       "    </tr>\n",
       "    <tr>\n",
       "      <th>...</th>\n",
       "      <td>...</td>\n",
       "      <td>...</td>\n",
       "      <td>...</td>\n",
       "      <td>...</td>\n",
       "      <td>...</td>\n",
       "      <td>...</td>\n",
       "    </tr>\n",
       "    <tr>\n",
       "      <th>32220</th>\n",
       "      <td>33332</td>\n",
       "      <td>NaN</td>\n",
       "      <td>jul       utc</td>\n",
       "      <td>0</td>\n",
       "      <td>0</td>\n",
       "      <td>[jul, utc]</td>\n",
       "    </tr>\n",
       "    <tr>\n",
       "      <th>32221</th>\n",
       "      <td>11544</td>\n",
       "      <td>113470.0</td>\n",
       "      <td>i know your racist just admit it</td>\n",
       "      <td>1</td>\n",
       "      <td>1</td>\n",
       "      <td>[i, know, your, racist, just, admit, it]</td>\n",
       "    </tr>\n",
       "    <tr>\n",
       "      <th>32222</th>\n",
       "      <td>109800</td>\n",
       "      <td>NaN</td>\n",
       "      <td>what you are refering to as an autoflower is a...</td>\n",
       "      <td>0</td>\n",
       "      <td>0</td>\n",
       "      <td>[what, you, are, refering, to, as, an, autoflo...</td>\n",
       "    </tr>\n",
       "    <tr>\n",
       "      <th>32223</th>\n",
       "      <td>7433</td>\n",
       "      <td>72491.0</td>\n",
       "      <td>and i suck off my own dead father</td>\n",
       "      <td>3</td>\n",
       "      <td>1</td>\n",
       "      <td>[and, i, suck, off, my, own, dead, father]</td>\n",
       "    </tr>\n",
       "    <tr>\n",
       "      <th>32224</th>\n",
       "      <td>11619</td>\n",
       "      <td>114173.0</td>\n",
       "      <td>it s my damn page and i can do what i want  bu...</td>\n",
       "      <td>1</td>\n",
       "      <td>1</td>\n",
       "      <td>[it, s, my, damn, page, and, i, can, do, what,...</td>\n",
       "    </tr>\n",
       "  </tbody>\n",
       "</table>\n",
       "<p>32225 rows × 6 columns</p>\n",
       "</div>"
      ],
      "text/plain": [
       "       level_0     index                                               text  \\\n",
       "0        24793       NaN  a message from                 it isn t vandal...   \n",
       "1        14933  147109.0  fuck yourself you self important web nazi  del...   \n",
       "2         1700       NaN  thankyou  gareth  that s very kind  is that mo...   \n",
       "3       124791       NaN  kentucky hoax      there has been a recent mov...   \n",
       "4        52666       NaN       july       utc  once again  leave me alon...   \n",
       "...        ...       ...                                                ...   \n",
       "32220    33332       NaN                                     jul       utc    \n",
       "32221    11544  113470.0                  i know your racist just admit it    \n",
       "32222   109800       NaN  what you are refering to as an autoflower is a...   \n",
       "32223     7433   72491.0                  and i suck off my own dead father   \n",
       "32224    11619  114173.0  it s my damn page and i can do what i want  bu...   \n",
       "\n",
       "       y  toxic                                             tokens  \n",
       "0      0      0  [a, message, from, it, isn, t, vandalism, it, ...  \n",
       "1      4      1  [fuck, yourself, you, self, important, web, na...  \n",
       "2      0      0  [thankyou, gareth, that, s, very, kind, is, th...  \n",
       "3      0      0  [kentucky, hoax, there, has, been, a, recent, ...  \n",
       "4      0      0  [july, utc, once, again, leave, me, alone, you...  \n",
       "...   ..    ...                                                ...  \n",
       "32220  0      0                                         [jul, utc]  \n",
       "32221  1      1           [i, know, your, racist, just, admit, it]  \n",
       "32222  0      0  [what, you, are, refering, to, as, an, autoflo...  \n",
       "32223  3      1         [and, i, suck, off, my, own, dead, father]  \n",
       "32224  1      1  [it, s, my, damn, page, and, i, can, do, what,...  \n",
       "\n",
       "[32225 rows x 6 columns]"
      ]
     },
     "execution_count": 15,
     "metadata": {},
     "output_type": "execute_result"
    }
   ],
   "source": [
    "from sklearn.utils import shuffle\n",
    "df = shuffle(df).reset_index()\n",
    "df"
   ]
  },
  {
   "cell_type": "code",
   "execution_count": 16,
   "id": "ff4eb2fd",
   "metadata": {
    "execution": {
     "iopub.execute_input": "2022-01-15T17:11:19.620995Z",
     "iopub.status.busy": "2022-01-15T17:11:19.620217Z",
     "iopub.status.idle": "2022-01-15T17:11:29.344384Z",
     "shell.execute_reply": "2022-01-15T17:11:29.343631Z",
     "shell.execute_reply.started": "2022-01-15T15:17:45.122899Z"
    },
    "papermill": {
     "duration": 9.765657,
     "end_time": "2022-01-15T17:11:29.344601",
     "exception": false,
     "start_time": "2022-01-15T17:11:19.578944",
     "status": "completed"
    },
    "tags": []
   },
   "outputs": [
    {
     "name": "stdout",
     "output_type": "stream",
     "text": [
      "Found 60939 unique tokens.\n",
      "Max sentence length is 1403\n"
     ]
    }
   ],
   "source": [
    "from keras.preprocessing.text import Tokenizer\n",
    "all_training_words = [word for tokens in df[\"tokens\"] for word in tokens]\n",
    "training_sentence_lengths = [len(tokens) for tokens in df[\"tokens\"]]\n",
    "vocab = sorted(list(set(all_training_words)))\n",
    "\n",
    "tokenizer = Tokenizer(num_words=len(vocab), lower=True, char_level=False)\n",
    "tokenizer.fit_on_texts(df[\"tokens\"].tolist())\n",
    "training_sequences = tokenizer.texts_to_sequences(df[\"tokens\"].tolist())\n",
    "import pickle\n",
    "with open('tokenizer.pk', 'wb') as fout:\n",
    "        pickle.dump(tokenizer, fout)\n",
    "\n",
    "train_word_index = tokenizer.word_index\n",
    "print('Found %s unique tokens.' % len(train_word_index))\n",
    "print(\"Max sentence length is %s\" % max(training_sentence_lengths))"
   ]
  },
  {
   "cell_type": "code",
   "execution_count": 17,
   "id": "51000971",
   "metadata": {
    "execution": {
     "iopub.execute_input": "2022-01-15T17:11:29.414209Z",
     "iopub.status.busy": "2022-01-15T17:11:29.413157Z",
     "iopub.status.idle": "2022-01-15T17:11:31.132732Z",
     "shell.execute_reply": "2022-01-15T17:11:31.133240Z",
     "shell.execute_reply.started": "2022-01-15T15:17:55.226709Z"
    },
    "papermill": {
     "duration": 1.75553,
     "end_time": "2022-01-15T17:11:31.133433",
     "exception": false,
     "start_time": "2022-01-15T17:11:29.377903",
     "status": "completed"
    },
    "tags": []
   },
   "outputs": [
    {
     "data": {
      "image/png": "[encoded data removed]",
      "text/plain": [
       "<Figure size 432x288 with 1 Axes>"
      ]
     },
     "metadata": {
      "needs_background": "light"
     },
     "output_type": "display_data"
    }
   ],
   "source": [
    "import matplotlib.pyplot as plt\n",
    "plt.figure()\n",
    "plt.hist(training_sentence_lengths,bins = 50)\n",
    "plt.yscale('log')\n",
    "plt.xlabel('Length of comment in words')\n",
    "plt.ylabel('Frequency')\n",
    "plt.show()"
   ]
  },
  {
   "cell_type": "code",
   "execution_count": 18,
   "id": "b3666de3",
   "metadata": {
    "execution": {
     "iopub.execute_input": "2022-01-15T17:11:31.211434Z",
     "iopub.status.busy": "2022-01-15T17:11:31.210771Z",
     "iopub.status.idle": "2022-01-15T17:11:31.611355Z",
     "shell.execute_reply": "2022-01-15T17:11:31.611837Z",
     "shell.execute_reply.started": "2022-01-15T15:17:56.829098Z"
    },
    "papermill": {
     "duration": 0.445218,
     "end_time": "2022-01-15T17:11:31.612049",
     "exception": false,
     "start_time": "2022-01-15T17:11:31.166831",
     "status": "completed"
    },
    "tags": []
   },
   "outputs": [],
   "source": [
    "from keras.preprocessing.sequence import pad_sequences\n",
    "train_rnn_data = pad_sequences(training_sequences, maxlen=50)"
   ]
  },
  {
   "cell_type": "code",
   "execution_count": 19,
   "id": "24baaef0",
   "metadata": {
    "execution": {
     "iopub.execute_input": "2022-01-15T17:11:31.685042Z",
     "iopub.status.busy": "2022-01-15T17:11:31.684281Z",
     "iopub.status.idle": "2022-01-15T17:11:31.983089Z",
     "shell.execute_reply": "2022-01-15T17:11:31.983836Z",
     "shell.execute_reply.started": "2022-01-15T15:17:57.262368Z"
    },
    "papermill": {
     "duration": 0.338948,
     "end_time": "2022-01-15T17:11:31.984075",
     "exception": false,
     "start_time": "2022-01-15T17:11:31.645127",
     "status": "completed"
    },
    "tags": []
   },
   "outputs": [
    {
     "name": "stdout",
     "output_type": "stream",
     "text": [
      "(60940, 100)\n"
     ]
    }
   ],
   "source": [
    "train_embedding_weights = np.zeros((len(train_word_index)+1, 100))\n",
    "for word,index in train_word_index.items():\n",
    "    try:\n",
    "        train_embedding_weights[index,:] = model.wv[word]\n",
    "    except:\n",
    "        train_embedding_weights[index,:] = np.random.rand(100)\n",
    "print(train_embedding_weights.shape)"
   ]
  },
  {
   "cell_type": "code",
   "execution_count": 20,
   "id": "b0f3f707",
   "metadata": {
    "execution": {
     "iopub.execute_input": "2022-01-15T17:11:32.061985Z",
     "iopub.status.busy": "2022-01-15T17:11:32.061233Z",
     "iopub.status.idle": "2022-01-15T17:11:32.065179Z",
     "shell.execute_reply": "2022-01-15T17:11:32.064552Z",
     "shell.execute_reply.started": "2022-01-15T15:17:57.574827Z"
    },
    "papermill": {
     "duration": 0.04754,
     "end_time": "2022-01-15T17:11:32.065369",
     "exception": false,
     "start_time": "2022-01-15T17:11:32.017829",
     "status": "completed"
    },
    "tags": []
   },
   "outputs": [
    {
     "name": "stdout",
     "output_type": "stream",
     "text": [
      "done\n"
     ]
    }
   ],
   "source": [
    "def recurrent_nn(embeddings, max_sequence_length, num_words, embedding_dim, labels_index):\n",
    "    \n",
    "    embedding_layer = Embedding(num_words,\n",
    "                            embedding_dim,\n",
    "                            weights=[embeddings],\n",
    "                            input_length=max_sequence_length,\n",
    "                            trainable=False)\n",
    "    \n",
    "    sequence_input = Input(shape=(max_sequence_length,), dtype='int32')\n",
    "    embedded_sequences = embedding_layer(sequence_input)\n",
    "\n",
    "\n",
    "    lstm = LSTM(128)(embedded_sequences)\n",
    "    x = Dense(128, activation='relu')(lstm)\n",
    "    x = Dense(128, activation='relu')(x)\n",
    "    x = Dropout(0.1)(x)\n",
    "\n",
    "    preds = Dense(labels_index, activation='sigmoid')(x)\n",
    "    model = Model(sequence_input, preds)\n",
    "    model.compile(loss='binary_crossentropy',\n",
    "                  optimizer='adam',\n",
    "                  metrics=['acc'])\n",
    "    model.summary()\n",
    "    return model\n",
    "print('done')"
   ]
  },
  {
   "cell_type": "code",
   "execution_count": 21,
   "id": "1b8538c1",
   "metadata": {
    "execution": {
     "iopub.execute_input": "2022-01-15T17:11:32.137180Z",
     "iopub.status.busy": "2022-01-15T17:11:32.136226Z",
     "iopub.status.idle": "2022-01-15T17:25:35.881867Z",
     "shell.execute_reply": "2022-01-15T17:25:35.881249Z",
     "shell.execute_reply.started": "2022-01-15T15:48:46.755653Z"
    },
    "papermill": {
     "duration": 843.783216,
     "end_time": "2022-01-15T17:25:35.882046",
     "exception": false,
     "start_time": "2022-01-15T17:11:32.098830",
     "status": "completed"
    },
    "tags": []
   },
   "outputs": [
    {
     "name": "stderr",
     "output_type": "stream",
     "text": [
      "\n",
      "User settings:\n",
      "\n",
      "   KMP_AFFINITY=granularity=fine,verbose,compact,1,0\n",
      "   KMP_BLOCKTIME=0\n",
      "   KMP_DUPLICATE_LIB_OK=True\n",
      "   KMP_INIT_AT_FORK=FALSE\n",
      "   KMP_SETTINGS=1\n",
      "   KMP_WARNINGS=0\n",
      "\n",
      "Effective settings:\n",
      "\n",
      "   KMP_ABORT_DELAY=0\n",
      "   KMP_ADAPTIVE_LOCK_PROPS='1,1024'\n",
      "   KMP_ALIGN_ALLOC=64\n",
      "   KMP_ALL_THREADPRIVATE=128\n",
      "   KMP_ATOMIC_MODE=2\n",
      "   KMP_BLOCKTIME=0\n",
      "   KMP_CPUINFO_FILE: value is not defined\n",
      "   KMP_DETERMINISTIC_REDUCTION=false\n",
      "   KMP_DEVICE_THREAD_LIMIT=2147483647\n",
      "   KMP_DISP_NUM_BUFFERS=7\n",
      "   KMP_DUPLICATE_LIB_OK=true\n",
      "   KMP_ENABLE_TASK_THROTTLING=true\n",
      "   KMP_FORCE_REDUCTION: value is not defined\n",
      "   KMP_FOREIGN_THREADS_THREADPRIVATE=true\n",
      "   KMP_FORKJOIN_BARRIER='2,2'\n",
      "   KMP_FORKJOIN_BARRIER_PATTERN='hyper,hyper'\n",
      "   KMP_GTID_MODE=3\n",
      "   KMP_HANDLE_SIGNALS=false\n",
      "   KMP_HOT_TEAMS_MAX_LEVEL=1\n",
      "   KMP_HOT_TEAMS_MODE=0\n",
      "   KMP_INIT_AT_FORK=true\n",
      "   KMP_LIBRARY=throughput\n",
      "   KMP_LOCK_KIND=queuing\n",
      "   KMP_MALLOC_POOL_INCR=1M\n",
      "   KMP_NUM_LOCKS_IN_BLOCK=1\n",
      "   KMP_PLAIN_BARRIER='2,2'\n",
      "   KMP_PLAIN_BARRIER_PATTERN='hyper,hyper'\n",
      "   KMP_REDUCTION_BARRIER='1,1'\n",
      "   KMP_REDUCTION_BARRIER_PATTERN='hyper,hyper'\n",
      "   KMP_SCHEDULE='static,balanced;guided,iterative'\n",
      "   KMP_SETTINGS=true\n",
      "   KMP_SPIN_BACKOFF_PARAMS='4096,100'\n",
      "   KMP_STACKOFFSET=64\n",
      "   KMP_STACKPAD=0\n",
      "   KMP_STACKSIZE=8M\n",
      "   KMP_STORAGE_MAP=false\n",
      "   KMP_TASKING=2\n",
      "   KMP_TASKLOOP_MIN_TASKS=0\n",
      "   KMP_TASK_STEALING_CONSTRAINT=1\n",
      "   KMP_TEAMS_THREAD_LIMIT=4\n",
      "   KMP_TOPOLOGY_METHOD=all\n",
      "   KMP_USE_YIELD=1\n",
      "   KMP_VERSION=false\n",
      "   KMP_WARNINGS=false\n",
      "   OMP_AFFINITY_FORMAT='OMP: pid %P tid %i thread %n bound to OS proc set {%A}'\n",
      "   OMP_ALLOCATOR=omp_default_mem_alloc\n",
      "   OMP_CANCELLATION=false\n",
      "   OMP_DEFAULT_DEVICE=0\n",
      "   OMP_DISPLAY_AFFINITY=false\n",
      "   OMP_DISPLAY_ENV=false\n",
      "   OMP_DYNAMIC=false\n",
      "   OMP_MAX_ACTIVE_LEVELS=1\n",
      "   OMP_MAX_TASK_PRIORITY=0\n",
      "   OMP_NESTED: deprecated; max-active-levels-var=1\n",
      "   OMP_NUM_THREADS: value is not defined\n",
      "   OMP_PLACES: value is not defined\n",
      "   OMP_PROC_BIND='intel'\n",
      "   OMP_SCHEDULE='static'\n",
      "   OMP_STACKSIZE=8M\n",
      "   OMP_TARGET_OFFLOAD=DEFAULT\n",
      "   OMP_THREAD_LIMIT=2147483647\n",
      "   OMP_WAIT_POLICY=PASSIVE\n",
      "   KMP_AFFINITY='verbose,warnings,respect,granularity=fine,compact,1,0'\n",
      "\n",
      "2022-01-15 17:11:32.193222: I tensorflow/core/common_runtime/process_util.cc:146] Creating new thread pool with default inter op setting: 2. Tune using inter_op_parallelism_threads for best performance.\n"
     ]
    },
    {
     "name": "stdout",
     "output_type": "stream",
     "text": [
      "Model: \"model\"\n",
      "_________________________________________________________________\n",
      "Layer (type)                 Output Shape              Param #   \n",
      "=================================================================\n",
      "input_1 (InputLayer)         [(None, 50)]              0         \n",
      "_________________________________________________________________\n",
      "embedding (Embedding)        (None, 50, 100)           6094000   \n",
      "_________________________________________________________________\n",
      "lstm (LSTM)                  (None, 128)               117248    \n",
      "_________________________________________________________________\n",
      "dense (Dense)                (None, 128)               16512     \n",
      "_________________________________________________________________\n",
      "dense_1 (Dense)              (None, 128)               16512     \n",
      "_________________________________________________________________\n",
      "dropout (Dropout)            (None, 128)               0         \n",
      "_________________________________________________________________\n",
      "dense_2 (Dense)              (None, 1)                 129       \n",
      "=================================================================\n",
      "Total params: 6,244,401\n",
      "Trainable params: 150,401\n",
      "Non-trainable params: 6,094,000\n",
      "_________________________________________________________________\n",
      "training model....\n",
      "Epoch 1/8\n"
     ]
    },
    {
     "name": "stderr",
     "output_type": "stream",
     "text": [
      "2022-01-15 17:11:32.672129: I tensorflow/compiler/mlir/mlir_graph_optimization_pass.cc:185] None of the MLIR Optimization Passes are enabled (registered 2)\n"
     ]
    },
    {
     "name": "stdout",
     "output_type": "stream",
     "text": [
      "454/454 [==============================] - 109s 231ms/step - loss: 0.3280 - acc: 0.8649 - val_loss: 0.2987 - val_acc: 0.8818\n",
      "Epoch 2/8\n",
      "454/454 [==============================] - 105s 231ms/step - loss: 0.2650 - acc: 0.8918 - val_loss: 0.2563 - val_acc: 0.9007\n",
      "Epoch 3/8\n",
      "454/454 [==============================] - 106s 234ms/step - loss: 0.2408 - acc: 0.9030 - val_loss: 0.2403 - val_acc: 0.9038\n",
      "Epoch 4/8\n",
      "454/454 [==============================] - 107s 236ms/step - loss: 0.2309 - acc: 0.9062 - val_loss: 0.2329 - val_acc: 0.9044\n",
      "Epoch 5/8\n",
      "454/454 [==============================] - 105s 231ms/step - loss: 0.2243 - acc: 0.9081 - val_loss: 0.2553 - val_acc: 0.9063\n",
      "Epoch 6/8\n",
      "454/454 [==============================] - 104s 230ms/step - loss: 0.2196 - acc: 0.9106 - val_loss: 0.2251 - val_acc: 0.9091\n",
      "Epoch 7/8\n",
      "454/454 [==============================] - 103s 227ms/step - loss: 0.2134 - acc: 0.9140 - val_loss: 0.2228 - val_acc: 0.9082\n",
      "Epoch 8/8\n",
      "454/454 [==============================] - 103s 227ms/step - loss: 0.2097 - acc: 0.9135 - val_loss: 0.2269 - val_acc: 0.9069\n"
     ]
    }
   ],
   "source": [
    "from keras.layers import Dense, Dropout, Reshape, Flatten, concatenate, Input, Embedding\n",
    "from keras.layers.recurrent import LSTM\n",
    "from keras.models import Model\n",
    "\n",
    "#let's classify as toxic or not\n",
    "y_train = df['toxic'].values\n",
    "x_train = train_rnn_data\n",
    "\n",
    "model = recurrent_nn(train_embedding_weights, 50, len(train_word_index)+1, 100, \n",
    "                    1)\n",
    "print('training model....')\n",
    "\n",
    "num_epochs = 8\n",
    "batch_size = 64\n",
    "hist = model.fit(x_train, y_train, epochs=num_epochs, validation_split=0.1, shuffle=True, batch_size=batch_size)"
   ]
  },
  {
   "cell_type": "code",
   "execution_count": 22,
   "id": "f359aa7b",
   "metadata": {
    "execution": {
     "iopub.execute_input": "2022-01-15T17:25:38.221969Z",
     "iopub.status.busy": "2022-01-15T17:25:38.220998Z",
     "iopub.status.idle": "2022-01-15T17:25:38.774777Z",
     "shell.execute_reply": "2022-01-15T17:25:38.774128Z",
     "shell.execute_reply.started": "2022-01-15T15:20:24.438535Z"
    },
    "papermill": {
     "duration": 1.692066,
     "end_time": "2022-01-15T17:25:38.774918",
     "exception": false,
     "start_time": "2022-01-15T17:25:37.082852",
     "status": "completed"
    },
    "tags": []
   },
   "outputs": [
    {
     "data": {
      "text/html": [
       "<div>\n",
       "<style scoped>\n",
       "    .dataframe tbody tr th:only-of-type {\n",
       "        vertical-align: middle;\n",
       "    }\n",
       "\n",
       "    .dataframe tbody tr th {\n",
       "        vertical-align: top;\n",
       "    }\n",
       "\n",
       "    .dataframe thead th {\n",
       "        text-align: right;\n",
       "    }\n",
       "</style>\n",
       "<table border=\"1\" class=\"dataframe\">\n",
       "  <thead>\n",
       "    <tr style=\"text-align: right;\">\n",
       "      <th></th>\n",
       "      <th>worker</th>\n",
       "      <th>less_toxic</th>\n",
       "      <th>more_toxic</th>\n",
       "    </tr>\n",
       "  </thead>\n",
       "  <tbody>\n",
       "    <tr>\n",
       "      <th>0</th>\n",
       "      <td>313</td>\n",
       "      <td>This article sucks \\n\\nwoo woo wooooooo</td>\n",
       "      <td>WHAT!!!!!!!!?!?!!?!?!!?!?!?!?!!!!!!!!!!!!!!!!!...</td>\n",
       "    </tr>\n",
       "    <tr>\n",
       "      <th>1</th>\n",
       "      <td>188</td>\n",
       "      <td>\"And yes, people should recognize that but the...</td>\n",
       "      <td>Daphne Guinness \\n\\nTop of the mornin' my fav...</td>\n",
       "    </tr>\n",
       "    <tr>\n",
       "      <th>2</th>\n",
       "      <td>82</td>\n",
       "      <td>Western Media?\\n\\nYup, because every crime in...</td>\n",
       "      <td>\"Atom you don't believe actual photos of mastu...</td>\n",
       "    </tr>\n",
       "    <tr>\n",
       "      <th>3</th>\n",
       "      <td>347</td>\n",
       "      <td>And you removed it! You numbskull! I don't car...</td>\n",
       "      <td>You seem to have sand in your vagina.\\n\\nMight...</td>\n",
       "    </tr>\n",
       "    <tr>\n",
       "      <th>4</th>\n",
       "      <td>539</td>\n",
       "      <td>smelly vagina \\n\\nBluerasberry why don't you ...</td>\n",
       "      <td>hey \\n\\nway to support nazis, you racist</td>\n",
       "    </tr>\n",
       "    <tr>\n",
       "      <th>...</th>\n",
       "      <td>...</td>\n",
       "      <td>...</td>\n",
       "      <td>...</td>\n",
       "    </tr>\n",
       "    <tr>\n",
       "      <th>30103</th>\n",
       "      <td>461</td>\n",
       "      <td>I'm sorry. I'm not an admin. I will give you t...</td>\n",
       "      <td>get out my large penis</td>\n",
       "    </tr>\n",
       "    <tr>\n",
       "      <th>30104</th>\n",
       "      <td>527</td>\n",
       "      <td>I'm sorry. I'm not an admin. I will give you t...</td>\n",
       "      <td>get out my large penis</td>\n",
       "    </tr>\n",
       "    <tr>\n",
       "      <th>30105</th>\n",
       "      <td>352</td>\n",
       "      <td>wow...\\nare you out of your mind, how was my e...</td>\n",
       "      <td>Piss off you slant eyed-gook</td>\n",
       "    </tr>\n",
       "    <tr>\n",
       "      <th>30106</th>\n",
       "      <td>311</td>\n",
       "      <td>wow...\\nare you out of your mind, how was my e...</td>\n",
       "      <td>Piss off you slant eyed-gook</td>\n",
       "    </tr>\n",
       "    <tr>\n",
       "      <th>30107</th>\n",
       "      <td>54</td>\n",
       "      <td>wow...\\nare you out of your mind, how was my e...</td>\n",
       "      <td>Piss off you slant eyed-gook</td>\n",
       "    </tr>\n",
       "  </tbody>\n",
       "</table>\n",
       "<p>30108 rows × 3 columns</p>\n",
       "</div>"
      ],
      "text/plain": [
       "       worker                                         less_toxic  \\\n",
       "0         313            This article sucks \\n\\nwoo woo wooooooo   \n",
       "1         188  \"And yes, people should recognize that but the...   \n",
       "2          82   Western Media?\\n\\nYup, because every crime in...   \n",
       "3         347  And you removed it! You numbskull! I don't car...   \n",
       "4         539   smelly vagina \\n\\nBluerasberry why don't you ...   \n",
       "...       ...                                                ...   \n",
       "30103     461  I'm sorry. I'm not an admin. I will give you t...   \n",
       "30104     527  I'm sorry. I'm not an admin. I will give you t...   \n",
       "30105     352  wow...\\nare you out of your mind, how was my e...   \n",
       "30106     311  wow...\\nare you out of your mind, how was my e...   \n",
       "30107      54  wow...\\nare you out of your mind, how was my e...   \n",
       "\n",
       "                                              more_toxic  \n",
       "0      WHAT!!!!!!!!?!?!!?!?!!?!?!?!?!!!!!!!!!!!!!!!!!...  \n",
       "1       Daphne Guinness \\n\\nTop of the mornin' my fav...  \n",
       "2      \"Atom you don't believe actual photos of mastu...  \n",
       "3      You seem to have sand in your vagina.\\n\\nMight...  \n",
       "4               hey \\n\\nway to support nazis, you racist  \n",
       "...                                                  ...  \n",
       "30103                             get out my large penis  \n",
       "30104                             get out my large penis  \n",
       "30105                       Piss off you slant eyed-gook  \n",
       "30106                       Piss off you slant eyed-gook  \n",
       "30107                       Piss off you slant eyed-gook  \n",
       "\n",
       "[30108 rows x 3 columns]"
      ]
     },
     "execution_count": 22,
     "metadata": {},
     "output_type": "execute_result"
    }
   ],
   "source": [
    "df_val = pd.read_csv(\"../input/jigsaw-toxic-severity-rating/validation_data.csv\")\n",
    "df_val"
   ]
  },
  {
   "cell_type": "code",
   "execution_count": 23,
   "id": "32924a8b",
   "metadata": {
    "execution": {
     "iopub.execute_input": "2022-01-15T17:25:41.065558Z",
     "iopub.status.busy": "2022-01-15T17:25:41.064844Z",
     "iopub.status.idle": "2022-01-15T17:25:41.067594Z",
     "shell.execute_reply": "2022-01-15T17:25:41.067069Z",
     "shell.execute_reply.started": "2022-01-15T15:20:25.031013Z"
    },
    "papermill": {
     "duration": 1.141575,
     "end_time": "2022-01-15T17:25:41.067783",
     "exception": false,
     "start_time": "2022-01-15T17:25:39.926208",
     "status": "completed"
    },
    "tags": []
   },
   "outputs": [],
   "source": [
    "import re\n",
    "def correct(col):\n",
    "    df_val[col] = df_val[col].str.lower()\n",
    "    df_val[col]  =df_val[col].astype(str)\n",
    "    df_val[col] = df_val[col].apply(lambda x: re.sub(\"[^a-zA-Z]\", \" \", x))\n",
    "    df_val[col] = df_val[col].str.replace('nan','')\n",
    "    return(list(df_val[col]))"
   ]
  },
  {
   "cell_type": "code",
   "execution_count": 24,
   "id": "0d41f53b",
   "metadata": {
    "execution": {
     "iopub.execute_input": "2022-01-15T17:25:43.341844Z",
     "iopub.status.busy": "2022-01-15T17:25:43.341195Z",
     "iopub.status.idle": "2022-01-15T17:26:32.147299Z",
     "shell.execute_reply": "2022-01-15T17:26:32.147880Z",
     "shell.execute_reply.started": "2022-01-15T15:20:25.039905Z"
    },
    "papermill": {
     "duration": 49.942687,
     "end_time": "2022-01-15T17:26:32.148073",
     "exception": false,
     "start_time": "2022-01-15T17:25:42.205386",
     "status": "completed"
    },
    "tags": []
   },
   "outputs": [
    {
     "data": {
      "text/html": [
       "<div>\n",
       "<style scoped>\n",
       "    .dataframe tbody tr th:only-of-type {\n",
       "        vertical-align: middle;\n",
       "    }\n",
       "\n",
       "    .dataframe tbody tr th {\n",
       "        vertical-align: top;\n",
       "    }\n",
       "\n",
       "    .dataframe thead th {\n",
       "        text-align: right;\n",
       "    }\n",
       "</style>\n",
       "<table border=\"1\" class=\"dataframe\">\n",
       "  <thead>\n",
       "    <tr style=\"text-align: right;\">\n",
       "      <th></th>\n",
       "      <th>worker</th>\n",
       "      <th>less_toxic</th>\n",
       "      <th>more_toxic</th>\n",
       "      <th>less_tokens</th>\n",
       "      <th>more_tokens</th>\n",
       "    </tr>\n",
       "  </thead>\n",
       "  <tbody>\n",
       "    <tr>\n",
       "      <th>0</th>\n",
       "      <td>313</td>\n",
       "      <td>this article sucks   woo woo wooooooo</td>\n",
       "      <td>what                                          ...</td>\n",
       "      <td>[this, article, sucks, woo, woo, wooooooo]</td>\n",
       "      <td>[what, wher, is, your, sexy, pic, gone, from, ...</td>\n",
       "    </tr>\n",
       "    <tr>\n",
       "      <th>1</th>\n",
       "      <td>188</td>\n",
       "      <td>and yes  people should recognize that but the...</td>\n",
       "      <td>daphne guinness   top of the mornin  my favou...</td>\n",
       "      <td>[and, yes, people, should, recognize, that, bu...</td>\n",
       "      <td>[daphne, guinness, top, of, the, mornin, my, f...</td>\n",
       "    </tr>\n",
       "    <tr>\n",
       "      <th>2</th>\n",
       "      <td>82</td>\n",
       "      <td>western media   yup  because every crime in t...</td>\n",
       "      <td>atom you don t believe actual photos of mastu...</td>\n",
       "      <td>[western, media, yup, because, every, crime, i...</td>\n",
       "      <td>[atom, you, don, t, believe, actual, photos, o...</td>\n",
       "    </tr>\n",
       "    <tr>\n",
       "      <th>3</th>\n",
       "      <td>347</td>\n",
       "      <td>and you removed it  you numbskull  i don t car...</td>\n",
       "      <td>you seem to have sand in your vagina   might w...</td>\n",
       "      <td>[and, you, removed, it, you, numbskull, i, don...</td>\n",
       "      <td>[you, seem, to, have, sand, in, your, vagina, ...</td>\n",
       "    </tr>\n",
       "    <tr>\n",
       "      <th>4</th>\n",
       "      <td>539</td>\n",
       "      <td>smelly vagina   bluerasberry why don t you be...</td>\n",
       "      <td>hey   way to support nazis  you racist</td>\n",
       "      <td>[smelly, vagina, bluerasberry, why, don, t, yo...</td>\n",
       "      <td>[hey, way, to, support, nazis, you, racist]</td>\n",
       "    </tr>\n",
       "    <tr>\n",
       "      <th>...</th>\n",
       "      <td>...</td>\n",
       "      <td>...</td>\n",
       "      <td>...</td>\n",
       "      <td>...</td>\n",
       "      <td>...</td>\n",
       "    </tr>\n",
       "    <tr>\n",
       "      <th>30103</th>\n",
       "      <td>461</td>\n",
       "      <td>i m sorry  i m not an admin  i will give you t...</td>\n",
       "      <td>get out my large penis</td>\n",
       "      <td>[i, m, sorry, i, m, not, an, admin, i, will, g...</td>\n",
       "      <td>[get, out, my, large, penis]</td>\n",
       "    </tr>\n",
       "    <tr>\n",
       "      <th>30104</th>\n",
       "      <td>527</td>\n",
       "      <td>i m sorry  i m not an admin  i will give you t...</td>\n",
       "      <td>get out my large penis</td>\n",
       "      <td>[i, m, sorry, i, m, not, an, admin, i, will, g...</td>\n",
       "      <td>[get, out, my, large, penis]</td>\n",
       "    </tr>\n",
       "    <tr>\n",
       "      <th>30105</th>\n",
       "      <td>352</td>\n",
       "      <td>wow    are you out of your mind  how was my ed...</td>\n",
       "      <td>piss off you slant eyed gook</td>\n",
       "      <td>[wow, are, you, out, of, your, mind, how, was,...</td>\n",
       "      <td>[piss, off, you, slant, eyed, gook]</td>\n",
       "    </tr>\n",
       "    <tr>\n",
       "      <th>30106</th>\n",
       "      <td>311</td>\n",
       "      <td>wow    are you out of your mind  how was my ed...</td>\n",
       "      <td>piss off you slant eyed gook</td>\n",
       "      <td>[wow, are, you, out, of, your, mind, how, was,...</td>\n",
       "      <td>[piss, off, you, slant, eyed, gook]</td>\n",
       "    </tr>\n",
       "    <tr>\n",
       "      <th>30107</th>\n",
       "      <td>54</td>\n",
       "      <td>wow    are you out of your mind  how was my ed...</td>\n",
       "      <td>piss off you slant eyed gook</td>\n",
       "      <td>[wow, are, you, out, of, your, mind, how, was,...</td>\n",
       "      <td>[piss, off, you, slant, eyed, gook]</td>\n",
       "    </tr>\n",
       "  </tbody>\n",
       "</table>\n",
       "<p>30108 rows × 5 columns</p>\n",
       "</div>"
      ],
      "text/plain": [
       "       worker                                         less_toxic  \\\n",
       "0         313              this article sucks   woo woo wooooooo   \n",
       "1         188   and yes  people should recognize that but the...   \n",
       "2          82   western media   yup  because every crime in t...   \n",
       "3         347  and you removed it  you numbskull  i don t car...   \n",
       "4         539   smelly vagina   bluerasberry why don t you be...   \n",
       "...       ...                                                ...   \n",
       "30103     461  i m sorry  i m not an admin  i will give you t...   \n",
       "30104     527  i m sorry  i m not an admin  i will give you t...   \n",
       "30105     352  wow    are you out of your mind  how was my ed...   \n",
       "30106     311  wow    are you out of your mind  how was my ed...   \n",
       "30107      54  wow    are you out of your mind  how was my ed...   \n",
       "\n",
       "                                              more_toxic  \\\n",
       "0      what                                          ...   \n",
       "1       daphne guinness   top of the mornin  my favou...   \n",
       "2       atom you don t believe actual photos of mastu...   \n",
       "3      you seem to have sand in your vagina   might w...   \n",
       "4                 hey   way to support nazis  you racist   \n",
       "...                                                  ...   \n",
       "30103                             get out my large penis   \n",
       "30104                             get out my large penis   \n",
       "30105                       piss off you slant eyed gook   \n",
       "30106                       piss off you slant eyed gook   \n",
       "30107                       piss off you slant eyed gook   \n",
       "\n",
       "                                             less_tokens  \\\n",
       "0             [this, article, sucks, woo, woo, wooooooo]   \n",
       "1      [and, yes, people, should, recognize, that, bu...   \n",
       "2      [western, media, yup, because, every, crime, i...   \n",
       "3      [and, you, removed, it, you, numbskull, i, don...   \n",
       "4      [smelly, vagina, bluerasberry, why, don, t, yo...   \n",
       "...                                                  ...   \n",
       "30103  [i, m, sorry, i, m, not, an, admin, i, will, g...   \n",
       "30104  [i, m, sorry, i, m, not, an, admin, i, will, g...   \n",
       "30105  [wow, are, you, out, of, your, mind, how, was,...   \n",
       "30106  [wow, are, you, out, of, your, mind, how, was,...   \n",
       "30107  [wow, are, you, out, of, your, mind, how, was,...   \n",
       "\n",
       "                                             more_tokens  \n",
       "0      [what, wher, is, your, sexy, pic, gone, from, ...  \n",
       "1      [daphne, guinness, top, of, the, mornin, my, f...  \n",
       "2      [atom, you, don, t, believe, actual, photos, o...  \n",
       "3      [you, seem, to, have, sand, in, your, vagina, ...  \n",
       "4            [hey, way, to, support, nazis, you, racist]  \n",
       "...                                                  ...  \n",
       "30103                       [get, out, my, large, penis]  \n",
       "30104                       [get, out, my, large, penis]  \n",
       "30105                [piss, off, you, slant, eyed, gook]  \n",
       "30106                [piss, off, you, slant, eyed, gook]  \n",
       "30107                [piss, off, you, slant, eyed, gook]  \n",
       "\n",
       "[30108 rows x 5 columns]"
      ]
     },
     "execution_count": 24,
     "metadata": {},
     "output_type": "execute_result"
    }
   ],
   "source": [
    "df_val['less_toxic'] = correct('less_toxic')\n",
    "df_val['more_toxic'] = correct('more_toxic')\n",
    "df_val['less_tokens'] = [word_tokenize(sentence) for sentence in df_val.less_toxic]\n",
    "df_val['more_tokens'] = [word_tokenize(sentence) for sentence in df_val.more_toxic]\n",
    "df_val"
   ]
  },
  {
   "cell_type": "code",
   "execution_count": 25,
   "id": "cf7159eb",
   "metadata": {
    "execution": {
     "iopub.execute_input": "2022-01-15T17:26:34.474393Z",
     "iopub.status.busy": "2022-01-15T17:26:34.473632Z",
     "iopub.status.idle": "2022-01-15T17:27:07.700315Z",
     "shell.execute_reply": "2022-01-15T17:27:07.653831Z",
     "shell.execute_reply.started": "2022-01-15T16:02:23.613441Z"
    },
    "papermill": {
     "duration": 34.425516,
     "end_time": "2022-01-15T17:27:07.700560",
     "exception": false,
     "start_time": "2022-01-15T17:26:33.275044",
     "status": "completed"
    },
    "tags": []
   },
   "outputs": [
    {
     "name": "stdout",
     "output_type": "stream",
     "text": [
      "471/471 [==============================] - 31s 64ms/step\n"
     ]
    }
   ],
   "source": [
    "train_word_index = tokenizer.word_index\n",
    "training_sequences = tokenizer.texts_to_sequences(df_val[\"less_tokens\"].tolist())\n",
    "test_less = pad_sequences(training_sequences, maxlen=50)\n",
    "less_pred = model.predict(test_less, batch_size=64, verbose=1)"
   ]
  },
  {
   "cell_type": "code",
   "execution_count": 26,
   "id": "772402c6",
   "metadata": {
    "execution": {
     "iopub.execute_input": "2022-01-15T17:27:10.287522Z",
     "iopub.status.busy": "2022-01-15T17:27:10.286889Z",
     "iopub.status.idle": "2022-01-15T17:27:42.837150Z",
     "shell.execute_reply": "2022-01-15T17:27:42.813790Z",
     "shell.execute_reply.started": "2022-01-15T16:02:54.788984Z"
    },
    "papermill": {
     "duration": 33.838808,
     "end_time": "2022-01-15T17:27:42.837374",
     "exception": false,
     "start_time": "2022-01-15T17:27:08.998566",
     "status": "completed"
    },
    "tags": []
   },
   "outputs": [
    {
     "name": "stdout",
     "output_type": "stream",
     "text": [
      "471/471 [==============================] - 30s 64ms/step\n"
     ]
    }
   ],
   "source": [
    "train_word_index = tokenizer.word_index\n",
    "training_sequences = tokenizer.texts_to_sequences(df_val[\"more_tokens\"].tolist())\n",
    "test_more = pad_sequences(training_sequences, maxlen=50)\n",
    "more_pred = model.predict(test_more, batch_size=64, verbose=1)"
   ]
  },
  {
   "cell_type": "code",
   "execution_count": 27,
   "id": "9d62c752",
   "metadata": {
    "execution": {
     "iopub.execute_input": "2022-01-15T17:27:45.702153Z",
     "iopub.status.busy": "2022-01-15T17:27:45.688767Z",
     "iopub.status.idle": "2022-01-15T17:27:45.705375Z",
     "shell.execute_reply": "2022-01-15T17:27:45.706005Z",
     "shell.execute_reply.started": "2022-01-15T16:03:26.924964Z"
    },
    "papermill": {
     "duration": 1.452027,
     "end_time": "2022-01-15T17:27:45.706189",
     "exception": false,
     "start_time": "2022-01-15T17:27:44.254162",
     "status": "completed"
    },
    "tags": []
   },
   "outputs": [
    {
     "data": {
      "text/html": [
       "<div>\n",
       "<style scoped>\n",
       "    .dataframe tbody tr th:only-of-type {\n",
       "        vertical-align: middle;\n",
       "    }\n",
       "\n",
       "    .dataframe tbody tr th {\n",
       "        vertical-align: top;\n",
       "    }\n",
       "\n",
       "    .dataframe thead th {\n",
       "        text-align: right;\n",
       "    }\n",
       "</style>\n",
       "<table border=\"1\" class=\"dataframe\">\n",
       "  <thead>\n",
       "    <tr style=\"text-align: right;\">\n",
       "      <th></th>\n",
       "      <th>worker</th>\n",
       "      <th>less_toxic</th>\n",
       "      <th>more_toxic</th>\n",
       "      <th>less_tokens</th>\n",
       "      <th>more_tokens</th>\n",
       "      <th>less_pred</th>\n",
       "      <th>more_pred</th>\n",
       "    </tr>\n",
       "  </thead>\n",
       "  <tbody>\n",
       "    <tr>\n",
       "      <th>0</th>\n",
       "      <td>313</td>\n",
       "      <td>this article sucks   woo woo wooooooo</td>\n",
       "      <td>what                                          ...</td>\n",
       "      <td>[this, article, sucks, woo, woo, wooooooo]</td>\n",
       "      <td>[what, wher, is, your, sexy, pic, gone, from, ...</td>\n",
       "      <td>0.996407</td>\n",
       "      <td>0.700089</td>\n",
       "    </tr>\n",
       "    <tr>\n",
       "      <th>1</th>\n",
       "      <td>188</td>\n",
       "      <td>and yes  people should recognize that but the...</td>\n",
       "      <td>daphne guinness   top of the mornin  my favou...</td>\n",
       "      <td>[and, yes, people, should, recognize, that, bu...</td>\n",
       "      <td>[daphne, guinness, top, of, the, mornin, my, f...</td>\n",
       "      <td>0.129478</td>\n",
       "      <td>0.991517</td>\n",
       "    </tr>\n",
       "    <tr>\n",
       "      <th>2</th>\n",
       "      <td>82</td>\n",
       "      <td>western media   yup  because every crime in t...</td>\n",
       "      <td>atom you don t believe actual photos of mastu...</td>\n",
       "      <td>[western, media, yup, because, every, crime, i...</td>\n",
       "      <td>[atom, you, don, t, believe, actual, photos, o...</td>\n",
       "      <td>0.769376</td>\n",
       "      <td>0.469079</td>\n",
       "    </tr>\n",
       "    <tr>\n",
       "      <th>3</th>\n",
       "      <td>347</td>\n",
       "      <td>and you removed it  you numbskull  i don t car...</td>\n",
       "      <td>you seem to have sand in your vagina   might w...</td>\n",
       "      <td>[and, you, removed, it, you, numbskull, i, don...</td>\n",
       "      <td>[you, seem, to, have, sand, in, your, vagina, ...</td>\n",
       "      <td>0.832941</td>\n",
       "      <td>0.999339</td>\n",
       "    </tr>\n",
       "    <tr>\n",
       "      <th>4</th>\n",
       "      <td>539</td>\n",
       "      <td>smelly vagina   bluerasberry why don t you be...</td>\n",
       "      <td>hey   way to support nazis  you racist</td>\n",
       "      <td>[smelly, vagina, bluerasberry, why, don, t, yo...</td>\n",
       "      <td>[hey, way, to, support, nazis, you, racist]</td>\n",
       "      <td>0.994024</td>\n",
       "      <td>0.990495</td>\n",
       "    </tr>\n",
       "    <tr>\n",
       "      <th>...</th>\n",
       "      <td>...</td>\n",
       "      <td>...</td>\n",
       "      <td>...</td>\n",
       "      <td>...</td>\n",
       "      <td>...</td>\n",
       "      <td>...</td>\n",
       "      <td>...</td>\n",
       "    </tr>\n",
       "    <tr>\n",
       "      <th>30103</th>\n",
       "      <td>461</td>\n",
       "      <td>i m sorry  i m not an admin  i will give you t...</td>\n",
       "      <td>get out my large penis</td>\n",
       "      <td>[i, m, sorry, i, m, not, an, admin, i, will, g...</td>\n",
       "      <td>[get, out, my, large, penis]</td>\n",
       "      <td>0.987631</td>\n",
       "      <td>0.996454</td>\n",
       "    </tr>\n",
       "    <tr>\n",
       "      <th>30104</th>\n",
       "      <td>527</td>\n",
       "      <td>i m sorry  i m not an admin  i will give you t...</td>\n",
       "      <td>get out my large penis</td>\n",
       "      <td>[i, m, sorry, i, m, not, an, admin, i, will, g...</td>\n",
       "      <td>[get, out, my, large, penis]</td>\n",
       "      <td>0.987631</td>\n",
       "      <td>0.996454</td>\n",
       "    </tr>\n",
       "    <tr>\n",
       "      <th>30105</th>\n",
       "      <td>352</td>\n",
       "      <td>wow    are you out of your mind  how was my ed...</td>\n",
       "      <td>piss off you slant eyed gook</td>\n",
       "      <td>[wow, are, you, out, of, your, mind, how, was,...</td>\n",
       "      <td>[piss, off, you, slant, eyed, gook]</td>\n",
       "      <td>0.276062</td>\n",
       "      <td>0.987499</td>\n",
       "    </tr>\n",
       "    <tr>\n",
       "      <th>30106</th>\n",
       "      <td>311</td>\n",
       "      <td>wow    are you out of your mind  how was my ed...</td>\n",
       "      <td>piss off you slant eyed gook</td>\n",
       "      <td>[wow, are, you, out, of, your, mind, how, was,...</td>\n",
       "      <td>[piss, off, you, slant, eyed, gook]</td>\n",
       "      <td>0.276062</td>\n",
       "      <td>0.987499</td>\n",
       "    </tr>\n",
       "    <tr>\n",
       "      <th>30107</th>\n",
       "      <td>54</td>\n",
       "      <td>wow    are you out of your mind  how was my ed...</td>\n",
       "      <td>piss off you slant eyed gook</td>\n",
       "      <td>[wow, are, you, out, of, your, mind, how, was,...</td>\n",
       "      <td>[piss, off, you, slant, eyed, gook]</td>\n",
       "      <td>0.276062</td>\n",
       "      <td>0.987499</td>\n",
       "    </tr>\n",
       "  </tbody>\n",
       "</table>\n",
       "<p>30108 rows × 7 columns</p>\n",
       "</div>"
      ],
      "text/plain": [
       "       worker                                         less_toxic  \\\n",
       "0         313              this article sucks   woo woo wooooooo   \n",
       "1         188   and yes  people should recognize that but the...   \n",
       "2          82   western media   yup  because every crime in t...   \n",
       "3         347  and you removed it  you numbskull  i don t car...   \n",
       "4         539   smelly vagina   bluerasberry why don t you be...   \n",
       "...       ...                                                ...   \n",
       "30103     461  i m sorry  i m not an admin  i will give you t...   \n",
       "30104     527  i m sorry  i m not an admin  i will give you t...   \n",
       "30105     352  wow    are you out of your mind  how was my ed...   \n",
       "30106     311  wow    are you out of your mind  how was my ed...   \n",
       "30107      54  wow    are you out of your mind  how was my ed...   \n",
       "\n",
       "                                              more_toxic  \\\n",
       "0      what                                          ...   \n",
       "1       daphne guinness   top of the mornin  my favou...   \n",
       "2       atom you don t believe actual photos of mastu...   \n",
       "3      you seem to have sand in your vagina   might w...   \n",
       "4                 hey   way to support nazis  you racist   \n",
       "...                                                  ...   \n",
       "30103                             get out my large penis   \n",
       "30104                             get out my large penis   \n",
       "30105                       piss off you slant eyed gook   \n",
       "30106                       piss off you slant eyed gook   \n",
       "30107                       piss off you slant eyed gook   \n",
       "\n",
       "                                             less_tokens  \\\n",
       "0             [this, article, sucks, woo, woo, wooooooo]   \n",
       "1      [and, yes, people, should, recognize, that, bu...   \n",
       "2      [western, media, yup, because, every, crime, i...   \n",
       "3      [and, you, removed, it, you, numbskull, i, don...   \n",
       "4      [smelly, vagina, bluerasberry, why, don, t, yo...   \n",
       "...                                                  ...   \n",
       "30103  [i, m, sorry, i, m, not, an, admin, i, will, g...   \n",
       "30104  [i, m, sorry, i, m, not, an, admin, i, will, g...   \n",
       "30105  [wow, are, you, out, of, your, mind, how, was,...   \n",
       "30106  [wow, are, you, out, of, your, mind, how, was,...   \n",
       "30107  [wow, are, you, out, of, your, mind, how, was,...   \n",
       "\n",
       "                                             more_tokens  less_pred  more_pred  \n",
       "0      [what, wher, is, your, sexy, pic, gone, from, ...   0.996407   0.700089  \n",
       "1      [daphne, guinness, top, of, the, mornin, my, f...   0.129478   0.991517  \n",
       "2      [atom, you, don, t, believe, actual, photos, o...   0.769376   0.469079  \n",
       "3      [you, seem, to, have, sand, in, your, vagina, ...   0.832941   0.999339  \n",
       "4            [hey, way, to, support, nazis, you, racist]   0.994024   0.990495  \n",
       "...                                                  ...        ...        ...  \n",
       "30103                       [get, out, my, large, penis]   0.987631   0.996454  \n",
       "30104                       [get, out, my, large, penis]   0.987631   0.996454  \n",
       "30105                [piss, off, you, slant, eyed, gook]   0.276062   0.987499  \n",
       "30106                [piss, off, you, slant, eyed, gook]   0.276062   0.987499  \n",
       "30107                [piss, off, you, slant, eyed, gook]   0.276062   0.987499  \n",
       "\n",
       "[30108 rows x 7 columns]"
      ]
     },
     "execution_count": 27,
     "metadata": {},
     "output_type": "execute_result"
    }
   ],
   "source": [
    "df_val['less_pred'] = less_pred\n",
    "df_val['more_pred'] = more_pred\n",
    "df_val"
   ]
  },
  {
   "cell_type": "code",
   "execution_count": 28,
   "id": "3ec67e58",
   "metadata": {
    "execution": {
     "iopub.execute_input": "2022-01-15T17:27:48.627377Z",
     "iopub.status.busy": "2022-01-15T17:27:48.626719Z",
     "iopub.status.idle": "2022-01-15T17:27:48.662948Z",
     "shell.execute_reply": "2022-01-15T17:27:48.663504Z",
     "shell.execute_reply.started": "2022-01-15T16:03:31.439105Z"
    },
    "papermill": {
     "duration": 1.512093,
     "end_time": "2022-01-15T17:27:48.663743",
     "exception": false,
     "start_time": "2022-01-15T17:27:47.151650",
     "status": "completed"
    },
    "tags": []
   },
   "outputs": [
    {
     "data": {
      "text/plain": [
       "0.673774412116381"
      ]
     },
     "execution_count": 28,
     "metadata": {},
     "output_type": "execute_result"
    }
   ],
   "source": [
    "len(df_val[df_val['more_pred']>df_val['less_pred']])/(len(df_val[df_val['more_pred']<df_val['less_pred']])+len(df_val[df_val['more_pred']>df_val['less_pred']]))"
   ]
  },
  {
   "cell_type": "code",
   "execution_count": 29,
   "id": "acdf5dbf",
   "metadata": {
    "execution": {
     "iopub.execute_input": "2022-01-15T17:27:51.500122Z",
     "iopub.status.busy": "2022-01-15T17:27:51.499483Z",
     "iopub.status.idle": "2022-01-15T17:27:51.650885Z",
     "shell.execute_reply": "2022-01-15T17:27:51.651488Z",
     "shell.execute_reply.started": "2022-01-15T16:03:39.284344Z"
    },
    "papermill": {
     "duration": 1.567188,
     "end_time": "2022-01-15T17:27:51.651678",
     "exception": false,
     "start_time": "2022-01-15T17:27:50.084490",
     "status": "completed"
    },
    "tags": []
   },
   "outputs": [
    {
     "data": {
      "text/html": [
       "<div>\n",
       "<style scoped>\n",
       "    .dataframe tbody tr th:only-of-type {\n",
       "        vertical-align: middle;\n",
       "    }\n",
       "\n",
       "    .dataframe tbody tr th {\n",
       "        vertical-align: top;\n",
       "    }\n",
       "\n",
       "    .dataframe thead th {\n",
       "        text-align: right;\n",
       "    }\n",
       "</style>\n",
       "<table border=\"1\" class=\"dataframe\">\n",
       "  <thead>\n",
       "    <tr style=\"text-align: right;\">\n",
       "      <th></th>\n",
       "      <th>comment_id</th>\n",
       "      <th>text</th>\n",
       "    </tr>\n",
       "  </thead>\n",
       "  <tbody>\n",
       "    <tr>\n",
       "      <th>0</th>\n",
       "      <td>114890</td>\n",
       "      <td>\"\\n \\n\\nGjalexei, you asked about whether ther...</td>\n",
       "    </tr>\n",
       "    <tr>\n",
       "      <th>1</th>\n",
       "      <td>732895</td>\n",
       "      <td>Looks like be have an abuser , can you please ...</td>\n",
       "    </tr>\n",
       "    <tr>\n",
       "      <th>2</th>\n",
       "      <td>1139051</td>\n",
       "      <td>I confess to having complete (and apparently b...</td>\n",
       "    </tr>\n",
       "    <tr>\n",
       "      <th>3</th>\n",
       "      <td>1434512</td>\n",
       "      <td>\"\\n\\nFreud's ideas are certainly much discusse...</td>\n",
       "    </tr>\n",
       "    <tr>\n",
       "      <th>4</th>\n",
       "      <td>2084821</td>\n",
       "      <td>It is not just you. This is a laundry list of ...</td>\n",
       "    </tr>\n",
       "    <tr>\n",
       "      <th>...</th>\n",
       "      <td>...</td>\n",
       "      <td>...</td>\n",
       "    </tr>\n",
       "    <tr>\n",
       "      <th>7532</th>\n",
       "      <td>504235362</td>\n",
       "      <td>Go away, you annoying vandal.</td>\n",
       "    </tr>\n",
       "    <tr>\n",
       "      <th>7533</th>\n",
       "      <td>504235566</td>\n",
       "      <td>This user is a vandal.</td>\n",
       "    </tr>\n",
       "    <tr>\n",
       "      <th>7534</th>\n",
       "      <td>504308177</td>\n",
       "      <td>\" \\n\\nSorry to sound like a pain, but one by f...</td>\n",
       "    </tr>\n",
       "    <tr>\n",
       "      <th>7535</th>\n",
       "      <td>504570375</td>\n",
       "      <td>Well it's pretty fucking irrelevant now I'm un...</td>\n",
       "    </tr>\n",
       "    <tr>\n",
       "      <th>7536</th>\n",
       "      <td>504598250</td>\n",
       "      <td>The team name is Great Britain and Northern Ir...</td>\n",
       "    </tr>\n",
       "  </tbody>\n",
       "</table>\n",
       "<p>7537 rows × 2 columns</p>\n",
       "</div>"
      ],
      "text/plain": [
       "      comment_id                                               text\n",
       "0         114890  \"\\n \\n\\nGjalexei, you asked about whether ther...\n",
       "1         732895  Looks like be have an abuser , can you please ...\n",
       "2        1139051  I confess to having complete (and apparently b...\n",
       "3        1434512  \"\\n\\nFreud's ideas are certainly much discusse...\n",
       "4        2084821  It is not just you. This is a laundry list of ...\n",
       "...          ...                                                ...\n",
       "7532   504235362                      Go away, you annoying vandal.\n",
       "7533   504235566                           This user is a vandal.  \n",
       "7534   504308177  \" \\n\\nSorry to sound like a pain, but one by f...\n",
       "7535   504570375  Well it's pretty fucking irrelevant now I'm un...\n",
       "7536   504598250  The team name is Great Britain and Northern Ir...\n",
       "\n",
       "[7537 rows x 2 columns]"
      ]
     },
     "execution_count": 29,
     "metadata": {},
     "output_type": "execute_result"
    }
   ],
   "source": [
    "to_score = pd.read_csv('../input/jigsaw-toxic-severity-rating/comments_to_score.csv')\n",
    "to_score"
   ]
  },
  {
   "cell_type": "code",
   "execution_count": 30,
   "id": "b410f83e",
   "metadata": {
    "execution": {
     "iopub.execute_input": "2022-01-15T17:27:54.539677Z",
     "iopub.status.busy": "2022-01-15T17:27:54.538934Z",
     "iopub.status.idle": "2022-01-15T17:27:54.937688Z",
     "shell.execute_reply": "2022-01-15T17:27:54.937065Z",
     "shell.execute_reply.started": "2022-01-15T16:03:41.914358Z"
    },
    "papermill": {
     "duration": 1.863422,
     "end_time": "2022-01-15T17:27:54.937859",
     "exception": false,
     "start_time": "2022-01-15T17:27:53.074437",
     "status": "completed"
    },
    "tags": []
   },
   "outputs": [],
   "source": [
    "to_score['text'] = to_score['text'].str.lower()\n",
    "to_score['text']  =to_score['text'].astype(str)\n",
    "to_score['text'] = to_score['text'].apply(lambda x: re.sub(\"[^a-zA-Z]\", \" \", x))\n",
    "to_score['text'] = to_score['text'].str.replace('nan','')\n"
   ]
  },
  {
   "cell_type": "code",
   "execution_count": 31,
   "id": "d9a3f3d9",
   "metadata": {
    "execution": {
     "iopub.execute_input": "2022-01-15T17:27:57.862839Z",
     "iopub.status.busy": "2022-01-15T17:27:57.862156Z",
     "iopub.status.idle": "2022-01-15T17:28:05.999935Z",
     "shell.execute_reply": "2022-01-15T17:28:05.999215Z",
     "shell.execute_reply.started": "2022-01-15T16:03:48.594994Z"
    },
    "papermill": {
     "duration": 9.644061,
     "end_time": "2022-01-15T17:28:06.000086",
     "exception": false,
     "start_time": "2022-01-15T17:27:56.356025",
     "status": "completed"
    },
    "tags": []
   },
   "outputs": [
    {
     "name": "stdout",
     "output_type": "stream",
     "text": [
      "15/15 [==============================] - 2s 158ms/step\n"
     ]
    }
   ],
   "source": [
    "to_score['tokens'] = [word_tokenize(sentence) for sentence in to_score.text]\n",
    "train_word_index = tokenizer.word_index\n",
    "training_sequences = tokenizer.texts_to_sequences(to_score[\"tokens\"].tolist())\n",
    "test_seq = pad_sequences(training_sequences, maxlen=50)\n",
    "pred = model.predict(test_seq, batch_size=512, verbose=1)"
   ]
  },
  {
   "cell_type": "code",
   "execution_count": 32,
   "id": "40119771",
   "metadata": {
    "execution": {
     "iopub.execute_input": "2022-01-15T17:28:08.887142Z",
     "iopub.status.busy": "2022-01-15T17:28:08.886013Z",
     "iopub.status.idle": "2022-01-15T17:28:08.913891Z",
     "shell.execute_reply": "2022-01-15T17:28:08.912852Z",
     "shell.execute_reply.started": "2022-01-15T16:03:58.494617Z"
    },
    "papermill": {
     "duration": 1.484598,
     "end_time": "2022-01-15T17:28:08.914224",
     "exception": false,
     "start_time": "2022-01-15T17:28:07.429626",
     "status": "completed"
    },
    "tags": []
   },
   "outputs": [
    {
     "data": {
      "text/html": [
       "<div>\n",
       "<style scoped>\n",
       "    .dataframe tbody tr th:only-of-type {\n",
       "        vertical-align: middle;\n",
       "    }\n",
       "\n",
       "    .dataframe tbody tr th {\n",
       "        vertical-align: top;\n",
       "    }\n",
       "\n",
       "    .dataframe thead th {\n",
       "        text-align: right;\n",
       "    }\n",
       "</style>\n",
       "<table border=\"1\" class=\"dataframe\">\n",
       "  <thead>\n",
       "    <tr style=\"text-align: right;\">\n",
       "      <th></th>\n",
       "      <th>comment_id</th>\n",
       "      <th>text</th>\n",
       "      <th>tokens</th>\n",
       "      <th>score</th>\n",
       "    </tr>\n",
       "  </thead>\n",
       "  <tbody>\n",
       "    <tr>\n",
       "      <th>0</th>\n",
       "      <td>114890</td>\n",
       "      <td>gjalexei  you asked about whether there i...</td>\n",
       "      <td>[gjalexei, you, asked, about, whether, there, ...</td>\n",
       "      <td>0.030495</td>\n",
       "    </tr>\n",
       "    <tr>\n",
       "      <th>1</th>\n",
       "      <td>732895</td>\n",
       "      <td>looks like be have an abuser   can you please ...</td>\n",
       "      <td>[looks, like, be, have, an, abuser, can, you, ...</td>\n",
       "      <td>0.009305</td>\n",
       "    </tr>\n",
       "    <tr>\n",
       "      <th>2</th>\n",
       "      <td>1139051</td>\n",
       "      <td>i confess to having complete  and apparently b...</td>\n",
       "      <td>[i, confess, to, having, complete, and, appare...</td>\n",
       "      <td>0.064807</td>\n",
       "    </tr>\n",
       "    <tr>\n",
       "      <th>3</th>\n",
       "      <td>1434512</td>\n",
       "      <td>freud s ideas are certainly much discussed ...</td>\n",
       "      <td>[freud, s, ideas, are, certainly, much, discus...</td>\n",
       "      <td>0.526727</td>\n",
       "    </tr>\n",
       "    <tr>\n",
       "      <th>4</th>\n",
       "      <td>2084821</td>\n",
       "      <td>it is not just you  this is a laundry list of ...</td>\n",
       "      <td>[it, is, not, just, you, this, is, a, laundry,...</td>\n",
       "      <td>0.935378</td>\n",
       "    </tr>\n",
       "    <tr>\n",
       "      <th>...</th>\n",
       "      <td>...</td>\n",
       "      <td>...</td>\n",
       "      <td>...</td>\n",
       "      <td>...</td>\n",
       "    </tr>\n",
       "    <tr>\n",
       "      <th>7532</th>\n",
       "      <td>504235362</td>\n",
       "      <td>go away  you annoying vandal</td>\n",
       "      <td>[go, away, you, annoying, vandal]</td>\n",
       "      <td>0.968922</td>\n",
       "    </tr>\n",
       "    <tr>\n",
       "      <th>7533</th>\n",
       "      <td>504235566</td>\n",
       "      <td>this user is a vandal</td>\n",
       "      <td>[this, user, is, a, vandal]</td>\n",
       "      <td>0.541132</td>\n",
       "    </tr>\n",
       "    <tr>\n",
       "      <th>7534</th>\n",
       "      <td>504308177</td>\n",
       "      <td>sorry to sound like a pain  but one by fol...</td>\n",
       "      <td>[sorry, to, sound, like, a, pain, but, one, by...</td>\n",
       "      <td>0.580872</td>\n",
       "    </tr>\n",
       "    <tr>\n",
       "      <th>7535</th>\n",
       "      <td>504570375</td>\n",
       "      <td>well it s pretty fucking irrelevant now i m un...</td>\n",
       "      <td>[well, it, s, pretty, fucking, irrelevant, now...</td>\n",
       "      <td>0.999757</td>\n",
       "    </tr>\n",
       "    <tr>\n",
       "      <th>7536</th>\n",
       "      <td>504598250</td>\n",
       "      <td>the team name is great britain and northern ir...</td>\n",
       "      <td>[the, team, name, is, great, britain, and, nor...</td>\n",
       "      <td>0.974124</td>\n",
       "    </tr>\n",
       "  </tbody>\n",
       "</table>\n",
       "<p>7537 rows × 4 columns</p>\n",
       "</div>"
      ],
      "text/plain": [
       "      comment_id                                               text  \\\n",
       "0         114890       gjalexei  you asked about whether there i...   \n",
       "1         732895  looks like be have an abuser   can you please ...   \n",
       "2        1139051  i confess to having complete  and apparently b...   \n",
       "3        1434512     freud s ideas are certainly much discussed ...   \n",
       "4        2084821  it is not just you  this is a laundry list of ...   \n",
       "...          ...                                                ...   \n",
       "7532   504235362                      go away  you annoying vandal    \n",
       "7533   504235566                           this user is a vandal      \n",
       "7534   504308177      sorry to sound like a pain  but one by fol...   \n",
       "7535   504570375  well it s pretty fucking irrelevant now i m un...   \n",
       "7536   504598250  the team name is great britain and northern ir...   \n",
       "\n",
       "                                                 tokens     score  \n",
       "0     [gjalexei, you, asked, about, whether, there, ...  0.030495  \n",
       "1     [looks, like, be, have, an, abuser, can, you, ...  0.009305  \n",
       "2     [i, confess, to, having, complete, and, appare...  0.064807  \n",
       "3     [freud, s, ideas, are, certainly, much, discus...  0.526727  \n",
       "4     [it, is, not, just, you, this, is, a, laundry,...  0.935378  \n",
       "...                                                 ...       ...  \n",
       "7532                  [go, away, you, annoying, vandal]  0.968922  \n",
       "7533                        [this, user, is, a, vandal]  0.541132  \n",
       "7534  [sorry, to, sound, like, a, pain, but, one, by...  0.580872  \n",
       "7535  [well, it, s, pretty, fucking, irrelevant, now...  0.999757  \n",
       "7536  [the, team, name, is, great, britain, and, nor...  0.974124  \n",
       "\n",
       "[7537 rows x 4 columns]"
      ]
     },
     "execution_count": 32,
     "metadata": {},
     "output_type": "execute_result"
    }
   ],
   "source": [
    "to_score['score'] = pred\n",
    "to_score"
   ]
  },
  {
   "cell_type": "code",
   "execution_count": 33,
   "id": "344131d1",
   "metadata": {
    "execution": {
     "iopub.execute_input": "2022-01-15T17:28:11.917090Z",
     "iopub.status.busy": "2022-01-15T17:28:11.916073Z",
     "iopub.status.idle": "2022-01-15T17:28:11.948905Z",
     "shell.execute_reply": "2022-01-15T17:28:11.949500Z",
     "shell.execute_reply.started": "2022-01-15T16:04:04.608073Z"
    },
    "papermill": {
     "duration": 1.531525,
     "end_time": "2022-01-15T17:28:11.949731",
     "exception": false,
     "start_time": "2022-01-15T17:28:10.418206",
     "status": "completed"
    },
    "tags": []
   },
   "outputs": [],
   "source": [
    "to_score[['comment_id','score']].to_csv('submission.csv',index=False)"
   ]
  }
 ],
 "metadata": {
  "kernelspec": {
   "display_name": "Python 3",
   "language": "python",
   "name": "python3"
  },
  "language_info": {
   "codemirror_mode": {
    "name": "ipython",
    "version": 3
   },
   "file_extension": ".py",
   "mimetype": "text/x-python",
   "name": "python",
   "nbconvert_exporter": "python",
   "pygments_lexer": "ipython3",
   "version": "3.7.12"
  },
  "papermill": {
   "default_parameters": {},
   "duration": 1227.212765,
   "end_time": "2022-01-15T17:28:16.950248",
   "environment_variables": {},
   "exception": null,
   "input_path": "__notebook__.ipynb",
   "output_path": "__notebook__.ipynb",
   "parameters": {},
   "start_time": "2022-01-15T17:07:49.737483",
   "version": "2.3.3"
  }
 },
 "nbformat": 4,
 "nbformat_minor": 5
}
