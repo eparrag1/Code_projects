{
 "cells": [
  {
   "cell_type": "markdown",
   "id": "healthy-cursor",
   "metadata": {},
   "source": [
    "# Vignere Cipher Tool"
   ]
  },
  {
   "cell_type": "markdown",
   "id": "distributed-making",
   "metadata": {},
   "source": [
    "This notebook contains the tools to encode and decode text with the Vignere Cipher, as well as breaking the cipher by decrypting ciphertext using frequency analysis - enjoy!"
   ]
  },
  {
   "cell_type": "markdown",
   "id": "historic-sponsorship",
   "metadata": {},
   "source": [
    "The below class is our encoder/decoder - this requires uppercase text, and can work for other alphabet if included in the input"
   ]
  },
  {
   "cell_type": "code",
   "execution_count": 42,
   "id": "dietary-blues",
   "metadata": {},
   "outputs": [],
   "source": [
    "import re\n",
    "import numpy as np\n",
    "\n",
    "class VigenereCipher(object):\n",
    "    def __init__(self, key, alphabet):\n",
    "        self.key = key\n",
    "        self.letters = re.findall('.',alphabet)\n",
    "        nos = np.linspace(0,len(alphabet),len(alphabet)+1).astype(int)\n",
    "        self.decoded = {alphabet[i]: nos[i] for i in range(len(alphabet))}\n",
    "        pass\n",
    "    \n",
    "    def encode(self,text):\n",
    "        if text.islower() == True:\n",
    "            return(text)\n",
    "        list_ = np.linspace(1,len(self.letters),len(self.letters))\n",
    "        message = []\n",
    "        key = self.key*(int(len(text)/len(self.key))+1)\n",
    "        for j in range(len(text)):\n",
    "            key_letter = key[j]\n",
    "            shift = self.decoded[key_letter]\n",
    "            try:\n",
    "                letter = self.letters[(self.letters.index(text[j])+shift) %len(self.letters)]\n",
    "            except:\n",
    "                letter = text[j]\n",
    "            message.append(letter)\n",
    "        return(''.join(message))\n",
    "\n",
    "    def decode(self, text):\n",
    "        if text.islower() == True:\n",
    "            return(text)\n",
    "        list_ = np.linspace(1,len(self.letters),len(self.letters))\n",
    "        message = []\n",
    "        key = self.key*(int(len(text)/len(self.key))+1)\n",
    "        for j in range(len(text)):\n",
    "            key_letter = key[j]\n",
    "            shift = -self.decoded[key_letter]\n",
    "            try:\n",
    "                letter = self.letters[(self.letters.index(text[j])+shift) %len(self.letters)]\n",
    "            except:\n",
    "                letter = text[j]\n",
    "            message.append(letter)\n",
    "        return(''.join(message))"
   ]
  },
  {
   "cell_type": "markdown",
   "id": "behind-argentina",
   "metadata": {},
   "source": [
    "This here is the function to get key length - this function uses the index of coincidence  - see https://en.wikipedia.org/wiki/Index_of_coincidence#Example \n",
    "\n",
    "In summary - try different key sizes, and if the key size happens to have been the same as the assumed number of columns, then all the letters within a single column will have been enciphered using the same key letter and therefore the corresponding set of ciphertext letters should have a roughness of frequency distribution similar to that of English, although the letter identities have been shifted.\n",
    "\n",
    "Therefore, if we compute the aggregate delta I.C. for all columns, it should be around 1.73. On the other hand, if we have incorrectly guessed the key size (number of columns), the aggregate delta I.C. should be around 1.00"
   ]
  },
  {
   "cell_type": "code",
   "execution_count": 45,
   "id": "second-amendment",
   "metadata": {},
   "outputs": [],
   "source": [
    "import numpy as np\n",
    "import re\n",
    "from itertools import count\n",
    "\n",
    "def get_key_length(cipher_text,max_key_length):\n",
    "    cipher_text = cipher_text.upper()\n",
    "    cipher_text = re.sub('[^A-Z]+', '', cipher_text)\n",
    "    alphabet = np.unique(re.findall('.',cipher_text))\n",
    "    def get_ic(cipher_text,alphabet,n):\n",
    "        cipher_text = (re.findall('.'*n,cipher_text))\n",
    "        \n",
    "        def get_sub(x):\n",
    "            new_text = []\n",
    "            freq = []\n",
    "            for i in range(len(cipher_text)):\n",
    "                new_text.append(cipher_text[i][x])\n",
    "            [freq.append(new_text.count(letter)) for letter in alphabet]\n",
    "            #count frequencies of letters in text\n",
    "            num = 0\n",
    "            dem = len(new_text)*((len(new_text)-1)/26)\n",
    "            for i in freq:\n",
    "                num = num + (i*(i-1))\n",
    "            return(num/dem)\n",
    "        ic = 0\n",
    "        sub_ic = 0\n",
    "        #calculate I.C.\n",
    "        for i in range(n):\n",
    "            sub_ic = sub_ic + get_sub(i)\n",
    "        ic = sub_ic/n\n",
    "        #how close to english language I.C. of 1.73\n",
    "        return(np.abs(ic-1.73))\n",
    "    vals = []\n",
    "    key_lengths = []\n",
    "    for i in range(max_key_length):\n",
    "        i = i+1\n",
    "        #Assume key length not shorter than 3\n",
    "        if i <3:\n",
    "            continue\n",
    "        vals.append(get_ic(cipher_text,alphabet,i))\n",
    "        key_lengths.append(i)\n",
    "    return(key_lengths[np.array(vals).argmin()])\n",
    "    "
   ]
  },
  {
   "cell_type": "markdown",
   "id": "acute-jacket",
   "metadata": {},
   "source": [
    "This below function is the cipher breaker, which relies on the previous function to first obtain the key length. This code takes the frequencies of letters in the english language and tries to match it up with the shifted alphabet, and the shift which matches for each nth letter in the key gives that letter of the key"
   ]
  },
  {
   "cell_type": "code",
   "execution_count": 47,
   "id": "delayed-halloween",
   "metadata": {},
   "outputs": [],
   "source": [
    "import matplotlib.pyplot as plt\n",
    "import re\n",
    "from collections import OrderedDict\n",
    "from itertools import islice, cycle\n",
    "import numpy as np\n",
    "\n",
    "def shift_dict(dct, shift):\n",
    "    shift %= len(dct)\n",
    "    return OrderedDict(\n",
    "        (k, v)\n",
    "        for k, v in zip(dct.keys(), islice(cycle(dct.values()), shift, None))\n",
    "    )\n",
    "\n",
    "def get_key(text,len_key):\n",
    "\n",
    "    split = (re.findall('.'*len_key,text))\n",
    "    alphabet = ['A','B','C','D','E','F','G','H','I','J','K','L','M','N','O','P','Q','R','S','T','U','V','W','X','Y','Z']\n",
    "    decode = {'A':0,'B':1,'C':2,'D':3,'E':4,'F':5,'G':6,'H':7,\n",
    "                'I':8,'J':9,'K':10,'L':11,'M':12,'N':13,'O':14,'P':15,'Q':16,'R':17,'S':18,\n",
    "                'T':19,'U':20,'V':21,'W':22,'X':23,'Y':24,'Z':25}\n",
    "    english = {'A':0.082,'B':0.015,'C':0.028,'D':0.043,'E':0.13,'F':0.022,'G':0.02,'H':0.061,\n",
    "                'I':0.07,'J':0.0015,'K':0.0077,'L':0.04,'M':0.024,'N':0.067,'O':0.075,'P':0.019,'Q':0.0095,'R':0.06,'S':0.063,\n",
    "                'T':0.091,'U':0.028,'V':0.0098,'W':0.024,'X':0.0015,'Y':0.02,'Z':0.00074}\n",
    "\n",
    "    frequencies ={'A':0,'B':0,'C':0,'D':0,'E':0,'F':0,'G':0,'H':0,\n",
    "                'I':0,'J':0,'K':0,'L':0,'M':0,'N':0,'O':0,'P':0,'Q':0,'R':0,'S':0,\n",
    "                'T':0,'U':0,'V':0,'W':0,'X':0,'Y':0,'Z':0}\n",
    "\n",
    "\n",
    "    def frequency_analysis(split,column):\n",
    "        first_list = []\n",
    "\n",
    "        for i in split:\n",
    "            first_list.append(i[column])\n",
    "\n",
    "        for letter in (alphabet):\n",
    "            frequencies[letter] = first_list.count(letter)/len(first_list)\n",
    "        sums =np.array([])\n",
    "        for i in range(26):\n",
    "            shifted = shift_dict(english,i)\n",
    "            sums = np.append(sums,sum(abs(np.array(list(frequencies.values()))-np.array(list(shifted.values())))))\n",
    "        min_ = (np.argmin(sums))\n",
    "        new = (26-min_) %26\n",
    "\n",
    "        #option to plot the shift figures here, uncomment if liked\n",
    "        '''\n",
    "        plt.figure()\n",
    "        plt.bar(*zip(*frequencies.items()),label = 'text')\n",
    "        plt.bar(*zip(*english.items()),label='english',alpha=0.5)\n",
    "        shifted = shift_dict(english,min_)\n",
    "        plt.bar(*zip(*shifted.items()),label='shifted',alpha=0.5)\n",
    "        plt.legend()\n",
    "        '''\n",
    "    \n",
    "        max_let = max(frequencies, key=frequencies.get)\n",
    "        key_letter_1 = [let for let, val in decode.items() if val == new]\n",
    "        return(key_letter_1)\n",
    "\n",
    "    key = []\n",
    "    for i in range(len_key):\n",
    "        key_letter = frequency_analysis(split,i)\n",
    "        key.append(key_letter[0])\n",
    "\n",
    "    return(''.join(key))\n"
   ]
  },
  {
   "cell_type": "code",
   "execution_count": 48,
   "id": "worthy-bronze",
   "metadata": {},
   "outputs": [],
   "source": [
    "def break_code(cipher_text):\n",
    "    key_length = get_key_length(cipher_text,10) #assuming a max key length of 10, but this can be increased\n",
    "    key = get_key(cipher_text,key_length)\n",
    "    return(key)"
   ]
  },
  {
   "cell_type": "markdown",
   "id": "improved-abuse",
   "metadata": {},
   "source": [
    "Finally, we see an example here of some ciphertext encoded with a key of unknown length. The key is obtained using the I.C. and frequency analysis functions, then the ciphertext is decoded using our encoder/decoder class"
   ]
  },
  {
   "cell_type": "code",
   "execution_count": 50,
   "id": "choice-person",
   "metadata": {},
   "outputs": [
    {
     "name": "stdout",
     "output_type": "stream",
     "text": [
      "LETTERFREQUENCIESLIKEWORDFREQUENCIESTENDTOVARYBOTHBYWRITERANDBYSUBJECTONECANNOTWRITEANESSAYABOUTXRAYSWITHOUTUSINGFREQUENTXSANDTHEESSAYWILLHAVEANIDIOSYNCRATICLETTERFREQUENCYIFTHEESSAYISABOUTTHEFREQUENTUSEOFXRAYSTOTREATZEBRASINQATARDIFFERENTAUTHORSHAVEHABITSWHICHCANBEREFLECTEDINTHEIRUSEOFLETTERSHEMINGWAYSWRITINGSTYLEFOREXAMPLEISVISIBLYDIFFERENTFROMFAULKNERSLETTERBIGRAMTRIGRAMWORDFREQUENCIESWORDLENGTHANDSENTENCELENGTHCANBECALCULATEDFORSPECIFICAUTHORSANDUSEDTOPROVEORDISPROVEAUTHORSHIPOFTEXTSEVENFORAUTHORSWHOSESTYLESARENOTSODIVERGENTACCURATEAVERAGELETTERFREQUENCIESCANONLYBEGLEANEDBYANALYZINGALARGEAMOUNTOFREPRESENTATIVETEXTWITHTHEAVAILABILITYOFMODERNCOMPUTINGANDCOLLECTIONSOFLARGETEXTCORPORASUCHCALCULATIONSAREEASILYMADEEXAMPLESCANBEDRAWNFROMAVARIETYOFSOURCESPRESSREPORTINGRELIGIOUSTEXTSSCIENTIFICTEXTSANDGENERALFICTIONANDTHEREAREDIFFERENCESESPECIALLYFORGENERALFICTIONWITHTHEPOSITIONOFHANDIWITHHBECOMINGMORECOMMONHERBERTSZIMINHISCLASSICINTRODUCTORYCRYPTOGRAPHYTEXTCODESANDSECRETWRITINGGIVESTHEENGLISHLETTERFREQUENCYSEQUENCEASETAONRISHDLFCMUGYPWBVKJXQZTHEMOSTCOMMONLETTERPAIRSASTHHEANREERINONATNDSTESENOFTEEDORTIHIASTOANDTHEMOSTCOMMONDOUBLEDLETTERSASLLEESSOOTTFFRRNNPPCCTHETOPTWELVELETTERSCOMPRISEABOUTOFTHETOTALUSAGETHETOPEIGHTLETTERSCOMPRISEABOUTOFTHETOTALUSAGELETTERFREQUENCYASAFUNCTIONOFRANKCANBEFITTEDWELLBYSEVERALRANKFUNCTIONSWITHTHETWOPARAMETERCOCHOBETARANKFUNCTIONBEINGTHEBESTANOTHERRANKFUNCTIONWITHNOADJUSTABLEFREEPARAMETERALSOFITSTHELETTERFREQUENCYDISTRIBUTIONREASONABLYWELLTHESAMEFUNCTIONHASBEENUSEDTOFITTHEAMINOACIDFREQUENCYINPROTEINSEQUENCESASPYUSINGTHEVICCIPHERORSOMEOTHERCIPHERBASEDONASTRADDLINGCHECKERBOARDTYPICALLYUSESAMNEMONICSUCHASASINTOERRDROPPINGTHESECONDRTOREMEMBERTHETOPEIGHTCHARACTERSTHEUSEOFLETTERFREQUENCIESANDFREQUENCYANALYSISPLAYSAFUNDAMENTALROLEINCRYPTOGRAMSANDSEVERALWORDPUZZLEGAMESINCLUDINGHANGMANSCRABBLEANDTHETELEVISIONGAMESHOWWHEELOFFORTUNEONEOFTHEEARLIESTDESCRIPTIONINCLASSICALLITERATUREOFAPPLYINGTHEKNOWLEDGEOFENGLISHLETTERFREQUENCYTOSOLVINGACRYPTOGRAMISFOUNDINEAPOESFAMOUSSTORYTHEGOLDBUGWHERETHEMETHODISSUCCESSFULLYAPPLIEDTODECIPHERAMESSAGEINSTRUCTINGONTHEWHEREABOUTSOFATREASUREHIDDENBYCAPTAINKIDDLETTERFREQUENCIESHADASTRONGEFFECTONTHEDESIGNOFSOMEKEYBOARDLAYOUTSTHEMOSTFREQUENTLETTERSAREONTHEBOTTOMROWOFTHEBLICKENSDERFERTYPEWRITERANDTHEHOMEROWOFTHEDVORAKSIMPLIFIEDKEYBOARD\n"
     ]
    }
   ],
   "source": [
    "cipher_text ='NSWXARWJGEXIJCZWUZLOAWFJFTUIMUVFEWHWPEEVVCYENYSGVVECSRZLGFDRZBPKWPMIYTFFGQDRJOKOTWWIWNVKUOBEXOLLZFDCOWZLJCXXQSZFITUIMUVFVLVEJDKZGSVWWYNANZKERERFKRLSOYEUTOWMYLVLVSUJNEHMGBFCEFKZGSVWWYZKCPRYPTYWHFHUQEELWGHSBXISAGWSPRVSVNHFNAJAPEDXWRUAHTHVANKSWHKSNSYSXSKEXIKKYVLGDCRFDSUIBLVUVSGMJTYWKFXWAOWDGHWINSYWOWQKSAPKYFLXENXKVMOIBOIWZOPTHEZKXWVMXLPVKTIINEELHFRQBALDMBHVOLVLVSUFEGISOHUMCRREYCUHBRVIWSQGEEJOQFGPANXLJOQHOEELGBFIHEEYVVFEJBVUCZFYHAKWFTRVOPVUKTLGWUKZQFVEJDLKGRWSLRFNGCUHESGJQJHEQTYGTGKMLOWLGLWWAVVFHCUEQTYGTGZLKSVKVMOIOAIWPCWWKDZNGFJIJTRUEIUEPERNGFDKALVLVSUJNEHMGBFMASTSPCQPUBVYNSDRADSQCBDPUZZFIOOENGVSOCXRPOWJGDUIOEELCHLZATVPVKLXDTYWCJDMHASANWWCKFDGFSURYODHWHLRCAEVECOPACKAQBVSBLRJISWITTTGTDRVWSLUJQDPYUCSVWRROAIWGOVMHYDSFSHBWMGDGGFEJBVVTOZRBRFECJDVEEKQQTVSQRTWUDUIOSIWRCUXENXJGZLKEOLKVSAXOSTAGBWMBITLGLWWWNUYGBHVWLWAEHLSJAEVVVHVAAIWFWIJARVFESVIOPVUKOOPUFFJISQINACXKQWMKNNAVVWLAPFKKHLSJOWZCBGMSIKZJPHGKMZFIARVACFEOCQLARSWTHVDEMZFJWVGHAJKKQLRPRFVWQWSNYTJADWSCRRHJMWITTTGFSVEJDJWEFHXSRZLKBJKEVVKVVHIJGCAUVOIPTVJHFHUQEEUAGHUQEEUGOVIPAFFTWVLZLWUOIJCLWSNMXAUVTYWOCVXYODEQBOIPTVJROLVOAJLJVHEJRVWTWQSJAKFFGWIOEEGHHHIZOILKVLEOTFSPRWLAMFKVQRQIOEVQIEPADCWVHHVOAJDNSHWOOFLVTIVNNEHRQFXDEKGRHZIHVVDGHWINSTGODUMOERTQIWSBTYWVCWEHUJSISWLATFHGWJLPLVLVSUWYODHTWVIWBFMVCIXDEKGVOOYOAXWNSWXARWJGEXIJCPSUOIYJCKAQBRJNAECEOQFAFZLVSGAALCTAGHZARRDTOQOBUEUVWRROWZLJHKIPWFHCFDQATVJECFLKBVLCFDRGFLFEHLSJBVAPUWLABVKVOQSPHVJTOQOBUEUVWRRSIKZPCDHFUJLCPOIBRVWROUEIEKWTOOWKFZLUHKIHEKLGFIVAQLWPQBHESKJKPXXEOEJGOVSJASDAKHPHTYWUOPIBUEUVWRRDAJTGSQYOEULQTLXPHVSOWQSWCZVHFHUQEEUAWQTNOKWKBVIMUVFESVEOPPMUWQKPHVNKQFMLHVJQFVSIEFLJSUGEPYWTPDWADFFCGWVWDUDKBJGDETCGFESWRULADLGWLCQWGHWWMEWOCQMYSLUJOVEOIELQSUVZRFHRWQKPHVKGQRRZRKGTSPIIBVJVVHXKPVAIVWGDAISEHHVOTYWWGHSBLVLVSUJNEHMGBFMASRFFTUIMUVFEMDRWLPKKGSPWYJSHIQHWMVFVOOVKLVAPQUCLTFYTOPWWNUKGJHVWLNGTRSYVZCWIOPIOIEUNIGMJGYSPUPEJSTJCPEPAAEVVVHXALVNKGLSJGREGGKSSWYWGZRJBOILWBHSJEFXVVHIWRCAGGWHASTJKDWMKNZFEZDWOITSNZLXARRLWFHSBAGHNMLRCTYWMBRAHEUYGCIIJGCAUVOIPTVJHFHUQEEUAHRWKLMAPUDGNYGLQUUEIIJXQIQHENVSRCHWBADGWGVXKRPLJSJSHDSMIKKINEKZGAHXDOUAUGXGYEJKHIOPUAGHNWHHPOUWEWSLARREGGVECEZFUHUYYTZFICQXDENZGFHEXOLLUCIEPRVSUIUIDIUVGBECYAGLCWQOEDUDGHWINFIWSIHRYIVKJOGEOTIGPUHJBETLQBWLADVKKUQSBSFEGYHCXORJFZDCKUKKVVHQKSKXTSTYANKDGHWINSRJGCQXDESGVHRQNONGHHKIXLZUMSQWZEIXGFWCLENJKHHVWNULJSKSIEIGYCIXDEUNQFDOOIDHNWIMADBWAPREND'\n",
    "key = break_code(cipher_text)\n",
    "c = VigenereCipher(key, 'ABCDEFGHIJKLMNOPQRSTUVWXYZ')\n",
    "print(c.decode(cipher_text))"
   ]
  },
  {
   "cell_type": "code",
   "execution_count": null,
   "id": "extraordinary-ordinance",
   "metadata": {},
   "outputs": [],
   "source": []
  }
 ],
 "metadata": {
  "kernelspec": {
   "display_name": "Python 3",
   "language": "python",
   "name": "python3"
  },
  "language_info": {
   "codemirror_mode": {
    "name": "ipython",
    "version": 3
   },
   "file_extension": ".py",
   "mimetype": "text/x-python",
   "name": "python",
   "nbconvert_exporter": "python",
   "pygments_lexer": "ipython3",
   "version": "3.7.3"
  }
 },
 "nbformat": 4,
 "nbformat_minor": 5
}
